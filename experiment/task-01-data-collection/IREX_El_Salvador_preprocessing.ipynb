{
  "nbformat": 4,
  "nbformat_minor": 0,
  "metadata": {
    "colab": {
      "provenance": []
    },
    "kernelspec": {
      "name": "python3",
      "display_name": "Python 3"
    },
    "language_info": {
      "name": "python"
    }
  },
  "cells": [
    {
      "cell_type": "code",
      "execution_count": null,
      "metadata": {
        "id": "0KJZJZG5inac"
      },
      "outputs": [],
      "source": [
        "import pandas as pd\n",
        "import re\n",
        "import os\n",
        "from tqdm import tqdm"
      ]
    },
    {
      "cell_type": "code",
      "source": [
        "from google.colab import drive\n",
        "drive.mount('/content/drive')"
      ],
      "metadata": {
        "colab": {
          "base_uri": "https://localhost:8080/"
        },
        "id": "bzJ_VrhC6gIk",
        "outputId": "85291224-faf2-4df4-df7a-749504a00b99"
      },
      "execution_count": null,
      "outputs": [
        {
          "output_type": "stream",
          "name": "stdout",
          "text": [
            "Mounted at /content/drive\n"
          ]
        }
      ]
    },
    {
      "cell_type": "code",
      "source": [
        "desired_columns = ['url', 'createdAt', 'id', 'viewCount','lang', 'author__createdAt', 'author__location', 'text']\n",
        "cities = [\n",
        "    'San Salvador', 'Soyapango', 'Santa Ana', 'San Miguel', 'Mejicanos', 'Santa Tecla',\n",
        "    'Apopa', 'Delgado', 'Sonsonate', 'San Marcos', 'Usulután', 'Cojutepeque', 'Cuscatancingo',\n",
        "    'San Vicente', 'Zacatecoluca', 'San Martín, El Salvador', 'Ilopango', 'Ahuachapán',\n",
        "    'Antiguo Cuscatlán', 'Chalchuapa'\n",
        "]"
      ],
      "metadata": {
        "id": "w1gCQNZrGkJ8"
      },
      "execution_count": null,
      "outputs": []
    },
    {
      "cell_type": "code",
      "source": [
        "def clean_text(text):\n",
        "    text = text.lower()\n",
        "    text = re.sub(r'https?://\\S+|www\\.\\S+', '', text)  # Remove URLs\n",
        "    text = re.sub(r'@\\w+', '', text)  # Remove mentions\n",
        "    text = re.sub(r'#\\w+', '', text)  # Remove hashtags and the words following them\n",
        "    text = re.sub(r'[^\\w\\s]', '', text)  # Remove punctuation\n",
        "    text = re.sub(r'\\s+', ' ', text).strip()  # Remove extra whitespace\n",
        "    # text = re.sub(r'[\\U00010000-\\U0010FFFF]', '', text)  # Remove emojis\n",
        "    return text\n",
        "\n",
        "def check_location(location):\n",
        "    if 'El Salvador' in location:\n",
        "        return 'True'\n",
        "    for city in cities:\n",
        "        if city in location:\n",
        "            return 'True'\n",
        "    return 'False'\n",
        "\n",
        "def process_file(input_file, output_dir):\n",
        "    try:\n",
        "        output_file = os.path.join(output_dir, os.path.basename(input_file).replace('replies', 'processed').replace('.xlsx', '.csv'))\n",
        "        if os.path.exists(output_file):\n",
        "            print(f\"File {output_file} already processed. Skipping.\")\n",
        "            return\n",
        "\n",
        "        comments_df = pd.read_excel(input_file, sheet_name='responses')\n",
        "        desired_columns = ['url', 'createdAt', 'id', 'viewCount', 'lang', 'author__createdAt', 'author__location', 'text']\n",
        "        comments_df = comments_df[[col for col in comments_df.columns if col in desired_columns]]\n",
        "\n",
        "        date_format = '%a %b %d %H:%M:%S +0000 %Y'\n",
        "        comments_df.loc[:, 'createdAt'] = pd.to_datetime(comments_df['createdAt'], format=date_format).astype(int) // 10**9\n",
        "\n",
        "        comments_df = comments_df[comments_df['lang'] == 'es']\n",
        "        comments_df.loc[:, 'author__location'] = comments_df['author__location'].fillna('')\n",
        "        comments_df.loc[:, 'author__location'] = comments_df['author__location'].apply(check_location)\n",
        "        comments_df.rename(columns={\n",
        "            \"author__location\": \"isComment_self__decalred__location__El_Salvador\",\n",
        "            'createdAt': 'comment_createdAt',\n",
        "            'url': 'comment_url',\n",
        "            'id': 'comment_id',\n",
        "            'viewCount': 'comment_viewCount',\n",
        "            'lang': 'comment_lang',\n",
        "            'author__createdAt': 'comment_author__createdAt',\n",
        "            'text': 'comment_text'\n",
        "        }, inplace=True)\n",
        "\n",
        "        comments_df = comments_df.dropna(subset=['comment_text'])\n",
        "        comments_df = comments_df.assign(comment_processed_text=comments_df['comment_text'].apply(clean_text))\n",
        "\n",
        "        post_df = pd.read_excel(input_file, sheet_name='initial_tweet')\n",
        "        # print(post_df)\n",
        "        post_df = post_df[[col for col in post_df.columns if col in desired_columns]]\n",
        "\n",
        "        # convert createdAt to unix timestamp\n",
        "        post_df.loc[:, 'createdAt'] = pd.to_datetime(post_df['createdAt'], format=date_format).astype(int) // 10**9\n",
        "\n",
        "        post_df = post_df[post_df['lang'] == 'es']\n",
        "        post_df.loc[:, 'author__location'] = post_df['author__location'].fillna('')\n",
        "        post_df.loc[:, 'author__location'] = post_df['author__location'].apply(check_location)\n",
        "        post_df.rename(columns={\n",
        "            \"author__location\": \"isPost_self__decalred__location__El_Salvador\",\n",
        "            'createdAt': 'post_createdAt',\n",
        "            'url': 'post_url',\n",
        "            'id': 'post_id',\n",
        "            'viewCount': 'post_viewCount',\n",
        "            'lang': 'post_lang',\n",
        "            'author__createdAt': 'post_author__createdAt',\n",
        "            'text': 'post_text'\n",
        "        }, inplace=True)\n",
        "\n",
        "        # print(post_df)\n",
        "        post_df = post_df.dropna(subset=['post_text'])\n",
        "        post_df = post_df.assign(post_processed_text=post_df['post_text'].apply(clean_text))\n",
        "\n",
        "        if post_df.empty:\n",
        "            # print(post_df)\n",
        "            raise ValueError(\"Post DataFrame is empty after processing\")\n",
        "\n",
        "        merged_df = comments_df.assign(**{col: post_df.iloc[0][col] for col in post_df.columns})\n",
        "\n",
        "        merged_df.to_csv(output_file, index=False)\n",
        "\n",
        "    except Exception as e:\n",
        "        print(f\"Error processing file {input_file}: {e}\")\n",
        "\n",
        "def process_all_files(input_dir, output_dir):\n",
        "    files = [f for f in os.listdir(input_dir) if f.endswith('.xlsx')]\n",
        "    for file_name in tqdm(files, desc=\"Processing files\"):\n",
        "        input_file = os.path.join(input_dir, file_name)\n",
        "        process_file(input_file, output_dir)"
      ],
      "metadata": {
        "id": "gKboVmURBerr"
      },
      "execution_count": null,
      "outputs": []
    },
    {
      "cell_type": "code",
      "source": [
        "input_directory = \"/content/drive/MyDrive/Data_Irex/Data: RAW/Twitter/Comments\"\n",
        "output_directory = \"/content/drive/MyDrive/Data_Irex/Data: Preprocessing/Twitter/Processed\"\n",
        "process_all_files(input_directory, output_directory)"
      ],
      "metadata": {
        "colab": {
          "base_uri": "https://localhost:8080/"
        },
        "id": "Khu2zcalqoXz",
        "outputId": "c608b453-dda4-4e53-ffb8-46aff493dfd1"
      },
      "execution_count": null,
      "outputs": [
        {
          "output_type": "stream",
          "name": "stderr",
          "text": [
            "Processing files:   1%|          | 1/148 [00:00<00:18,  7.78it/s]"
          ]
        },
        {
          "output_type": "stream",
          "name": "stdout",
          "text": [
            "Error processing file /content/drive/MyDrive/Data_Irex/Data: RAW/Twitter/Comments/nayibbukele_X_V3.2_replies_1776733270186545406.xlsx: Post DataFrame is empty after processing\n"
          ]
        },
        {
          "output_type": "stream",
          "name": "stderr",
          "text": [
            "Processing files:   2%|▏         | 3/148 [00:00<00:33,  4.27it/s]"
          ]
        },
        {
          "output_type": "stream",
          "name": "stdout",
          "text": [
            "Error processing file /content/drive/MyDrive/Data_Irex/Data: RAW/Twitter/Comments/nayibbukele_X_V3.2_replies_1783714043573702940.xlsx: Cannot save file into a non-existent directory: '/content/drive/MyDrive/Data_Irex/Data: Preprocessing/Twitter/Processed'\n",
            "Error processing file /content/drive/MyDrive/Data_Irex/Data: RAW/Twitter/Comments/nayibbukele_X_V3.2_replies_1775699870231224819.xlsx: Cannot save file into a non-existent directory: '/content/drive/MyDrive/Data_Irex/Data: Preprocessing/Twitter/Processed'\n"
          ]
        },
        {
          "output_type": "stream",
          "name": "stderr",
          "text": [
            "Processing files:   3%|▎         | 5/148 [00:00<00:23,  6.03it/s]"
          ]
        },
        {
          "output_type": "stream",
          "name": "stdout",
          "text": [
            "Error processing file /content/drive/MyDrive/Data_Irex/Data: RAW/Twitter/Comments/nayibbukele_X_V3.2_replies_1787301391087587431.xlsx: Cannot save file into a non-existent directory: '/content/drive/MyDrive/Data_Irex/Data: Preprocessing/Twitter/Processed'\n",
            "Error processing file /content/drive/MyDrive/Data_Irex/Data: RAW/Twitter/Comments/nayibbukele_X_V3.2_replies_1773039460256477463.xlsx: Cannot save file into a non-existent directory: '/content/drive/MyDrive/Data_Irex/Data: Preprocessing/Twitter/Processed'\n"
          ]
        },
        {
          "output_type": "stream",
          "name": "stderr",
          "text": [
            "Processing files:   5%|▍         | 7/148 [00:01<00:20,  6.91it/s]"
          ]
        },
        {
          "output_type": "stream",
          "name": "stdout",
          "text": [
            "Error processing file /content/drive/MyDrive/Data_Irex/Data: RAW/Twitter/Comments/nayibbukele_X_V3.2_replies_1773738164651241807.xlsx: Cannot save file into a non-existent directory: '/content/drive/MyDrive/Data_Irex/Data: Preprocessing/Twitter/Processed'\n",
            "Error processing file /content/drive/MyDrive/Data_Irex/Data: RAW/Twitter/Comments/nayibbukele_X_V3.2_replies_1773195373512708317.xlsx: Cannot save file into a non-existent directory: '/content/drive/MyDrive/Data_Irex/Data: Preprocessing/Twitter/Processed'\n"
          ]
        },
        {
          "output_type": "stream",
          "name": "stderr",
          "text": [
            "Processing files:   6%|▌         | 9/148 [00:01<00:17,  8.09it/s]"
          ]
        },
        {
          "output_type": "stream",
          "name": "stdout",
          "text": [
            "Error processing file /content/drive/MyDrive/Data_Irex/Data: RAW/Twitter/Comments/nayibbukele_X_V3.2_replies_1788014378324754680.xlsx: Cannot save file into a non-existent directory: '/content/drive/MyDrive/Data_Irex/Data: Preprocessing/Twitter/Processed'\n",
            "Error processing file /content/drive/MyDrive/Data_Irex/Data: RAW/Twitter/Comments/nayibbukele_X_V3.2_replies_1785860243542417524.xlsx: Cannot save file into a non-existent directory: '/content/drive/MyDrive/Data_Irex/Data: Preprocessing/Twitter/Processed'\n"
          ]
        },
        {
          "output_type": "stream",
          "name": "stderr",
          "text": [
            "Processing files:   8%|▊         | 12/148 [00:01<00:14,  9.38it/s]"
          ]
        },
        {
          "output_type": "stream",
          "name": "stdout",
          "text": [
            "Error processing file /content/drive/MyDrive/Data_Irex/Data: RAW/Twitter/Comments/nayibbukele_X_V3.2_replies_1777427641420636255.xlsx: Cannot save file into a non-existent directory: '/content/drive/MyDrive/Data_Irex/Data: Preprocessing/Twitter/Processed'\n",
            "Error processing file /content/drive/MyDrive/Data_Irex/Data: RAW/Twitter/Comments/nayibbukele_X_V3.2_replies_1773114767801995677.xlsx: Cannot save file into a non-existent directory: '/content/drive/MyDrive/Data_Irex/Data: Preprocessing/Twitter/Processed'\n",
            "Error processing file /content/drive/MyDrive/Data_Irex/Data: RAW/Twitter/Comments/waraujo64_X_V3.2_replies_1782782951068979568.xlsx: Cannot save file into a non-existent directory: '/content/drive/MyDrive/Data_Irex/Data: Preprocessing/Twitter/Processed'\n"
          ]
        },
        {
          "output_type": "stream",
          "name": "stderr",
          "text": [
            "Processing files:  10%|█         | 15/148 [00:02<00:12, 10.45it/s]"
          ]
        },
        {
          "output_type": "stream",
          "name": "stdout",
          "text": [
            "Error processing file /content/drive/MyDrive/Data_Irex/Data: RAW/Twitter/Comments/waraujo64_X_V3.2_replies_1782057167580741806.xlsx: Cannot save file into a non-existent directory: '/content/drive/MyDrive/Data_Irex/Data: Preprocessing/Twitter/Processed'\n",
            "Error processing file /content/drive/MyDrive/Data_Irex/Data: RAW/Twitter/Comments/waraujo64_X_V3.2_replies_1782761311526391916.xlsx: Cannot save file into a non-existent directory: '/content/drive/MyDrive/Data_Irex/Data: Preprocessing/Twitter/Processed'\n",
            "Error processing file /content/drive/MyDrive/Data_Irex/Data: RAW/Twitter/Comments/waraujo64_X_V3.2_replies_1780369690612670565.xlsx: Cannot save file into a non-existent directory: '/content/drive/MyDrive/Data_Irex/Data: Preprocessing/Twitter/Processed'\n",
            "Error processing file /content/drive/MyDrive/Data_Irex/Data: RAW/Twitter/Comments/waraujo64_X_V3.2_replies_1779956955219448096.xlsx: Cannot save file into a non-existent directory: '/content/drive/MyDrive/Data_Irex/Data: Preprocessing/Twitter/Processed'\n"
          ]
        },
        {
          "output_type": "stream",
          "name": "stderr",
          "text": [
            "\rProcessing files:  11%|█▏        | 17/148 [00:02<00:10, 12.05it/s]"
          ]
        },
        {
          "output_type": "stream",
          "name": "stdout",
          "text": [
            "Error processing file /content/drive/MyDrive/Data_Irex/Data: RAW/Twitter/Comments/waraujo64_X_V3.2_replies_1785023580809376158.xlsx: Cannot save file into a non-existent directory: '/content/drive/MyDrive/Data_Irex/Data: Preprocessing/Twitter/Processed'\n",
            "Error processing file /content/drive/MyDrive/Data_Irex/Data: RAW/Twitter/Comments/MarceloLarin1_X_V3.2_replies_1759942551593746709 (1).xlsx: Cannot save file into a non-existent directory: '/content/drive/MyDrive/Data_Irex/Data: Preprocessing/Twitter/Processed'\n"
          ]
        },
        {
          "output_type": "stream",
          "name": "stderr",
          "text": [
            "\rProcessing files:  13%|█▎        | 19/148 [00:02<00:12, 10.39it/s]"
          ]
        },
        {
          "output_type": "stream",
          "name": "stdout",
          "text": [
            "Error processing file /content/drive/MyDrive/Data_Irex/Data: RAW/Twitter/Comments/MarceloLarin1_X_V3.2_replies_1759942551593746709.xlsx: Cannot save file into a non-existent directory: '/content/drive/MyDrive/Data_Irex/Data: Preprocessing/Twitter/Processed'\n",
            "Error processing file /content/drive/MyDrive/Data_Irex/Data: RAW/Twitter/Comments/MarceloLarin1_X_V3.2_replies_1759232096231407675 (2).xlsx: Cannot save file into a non-existent directory: '/content/drive/MyDrive/Data_Irex/Data: Preprocessing/Twitter/Processed'\n"
          ]
        },
        {
          "output_type": "stream",
          "name": "stderr",
          "text": [
            "Processing files:  15%|█▍        | 22/148 [00:02<00:14,  8.82it/s]"
          ]
        },
        {
          "output_type": "stream",
          "name": "stdout",
          "text": [
            "Error processing file /content/drive/MyDrive/Data_Irex/Data: RAW/Twitter/Comments/MarceloLarin1_X_V3.2_replies_1759232096231407675.xlsx: Cannot save file into a non-existent directory: '/content/drive/MyDrive/Data_Irex/Data: Preprocessing/Twitter/Processed'\n",
            "Error processing file /content/drive/MyDrive/Data_Irex/Data: RAW/Twitter/Comments/MarceloLarin1_X_V3.2_replies_1781045162510061665 (1).xlsx: Cannot save file into a non-existent directory: '/content/drive/MyDrive/Data_Irex/Data: Preprocessing/Twitter/Processed'\n"
          ]
        },
        {
          "output_type": "stream",
          "name": "stderr",
          "text": [
            "Processing files:  17%|█▋        | 25/148 [00:03<00:13,  9.25it/s]"
          ]
        },
        {
          "output_type": "stream",
          "name": "stdout",
          "text": [
            "Error processing file /content/drive/MyDrive/Data_Irex/Data: RAW/Twitter/Comments/MarceloLarin1_X_V3.2_replies_1781045162510061665.xlsx: Cannot save file into a non-existent directory: '/content/drive/MyDrive/Data_Irex/Data: Preprocessing/Twitter/Processed'\n",
            "Error processing file /content/drive/MyDrive/Data_Irex/Data: RAW/Twitter/Comments/MarceloLarin1_X_V3.2_replies_1764631323182821585 (1).xlsx: Cannot save file into a non-existent directory: '/content/drive/MyDrive/Data_Irex/Data: Preprocessing/Twitter/Processed'\n",
            "Error processing file /content/drive/MyDrive/Data_Irex/Data: RAW/Twitter/Comments/MarceloLarin1_X_V3.2_replies_1764631323182821585.xlsx: Cannot save file into a non-existent directory: '/content/drive/MyDrive/Data_Irex/Data: Preprocessing/Twitter/Processed'\n"
          ]
        },
        {
          "output_type": "stream",
          "name": "stderr",
          "text": [
            "\rProcessing files:  18%|█▊        | 27/148 [00:03<00:12,  9.55it/s]"
          ]
        },
        {
          "output_type": "stream",
          "name": "stdout",
          "text": [
            "Error processing file /content/drive/MyDrive/Data_Irex/Data: RAW/Twitter/Comments/MarceloLarin1_X_V3.2_replies_1761488482059403300 (1).xlsx: Cannot save file into a non-existent directory: '/content/drive/MyDrive/Data_Irex/Data: Preprocessing/Twitter/Processed'\n",
            "Error processing file /content/drive/MyDrive/Data_Irex/Data: RAW/Twitter/Comments/MarceloLarin1_X_V3.2_replies_1761488482059403300.xlsx: Cannot save file into a non-existent directory: '/content/drive/MyDrive/Data_Irex/Data: Preprocessing/Twitter/Processed'\n"
          ]
        },
        {
          "output_type": "stream",
          "name": "stderr",
          "text": [
            "Processing files:  20%|█▉        | 29/148 [00:03<00:14,  8.40it/s]"
          ]
        },
        {
          "output_type": "stream",
          "name": "stdout",
          "text": [
            "Error processing file /content/drive/MyDrive/Data_Irex/Data: RAW/Twitter/Comments/MarceloLarin1_X_V3.2_replies_1777826121175748874 (2).xlsx: Cannot save file into a non-existent directory: '/content/drive/MyDrive/Data_Irex/Data: Preprocessing/Twitter/Processed'\n",
            "Error processing file /content/drive/MyDrive/Data_Irex/Data: RAW/Twitter/Comments/MarceloLarin1_X_V3.2_replies_1777826121175748874.xlsx: Cannot save file into a non-existent directory: '/content/drive/MyDrive/Data_Irex/Data: Preprocessing/Twitter/Processed'\n"
          ]
        },
        {
          "output_type": "stream",
          "name": "stderr",
          "text": [
            "\rProcessing files:  21%|██        | 31/148 [00:03<00:12,  9.40it/s]"
          ]
        },
        {
          "output_type": "stream",
          "name": "stdout",
          "text": [
            "Error processing file /content/drive/MyDrive/Data_Irex/Data: RAW/Twitter/Comments/MarceloLarin1_X_V3.2_replies_1761503340314116558 (1).xlsx: Cannot save file into a non-existent directory: '/content/drive/MyDrive/Data_Irex/Data: Preprocessing/Twitter/Processed'\n",
            "Error processing file /content/drive/MyDrive/Data_Irex/Data: RAW/Twitter/Comments/MarceloLarin1_X_V3.2_replies_1761503340314116558.xlsx: Cannot save file into a non-existent directory: '/content/drive/MyDrive/Data_Irex/Data: Preprocessing/Twitter/Processed'\n",
            "Error processing file /content/drive/MyDrive/Data_Irex/Data: RAW/Twitter/Comments/MarceloLarin1_X_V3.2_replies_1760293688482173384 (1).xlsx: Cannot save file into a non-existent directory: '/content/drive/MyDrive/Data_Irex/Data: Preprocessing/Twitter/Processed'\n"
          ]
        },
        {
          "output_type": "stream",
          "name": "stderr",
          "text": [
            "Processing files:  24%|██▎       | 35/148 [00:04<00:10, 11.04it/s]"
          ]
        },
        {
          "output_type": "stream",
          "name": "stdout",
          "text": [
            "Error processing file /content/drive/MyDrive/Data_Irex/Data: RAW/Twitter/Comments/MarceloLarin1_X_V3.2_replies_1760293688482173384.xlsx: Cannot save file into a non-existent directory: '/content/drive/MyDrive/Data_Irex/Data: Preprocessing/Twitter/Processed'\n",
            "Error processing file /content/drive/MyDrive/Data_Irex/Data: RAW/Twitter/Comments/MarceloLarin1_X_V3.2_replies_1762591914203693455 (1).xlsx: Cannot save file into a non-existent directory: '/content/drive/MyDrive/Data_Irex/Data: Preprocessing/Twitter/Processed'\n",
            "Error processing file /content/drive/MyDrive/Data_Irex/Data: RAW/Twitter/Comments/MarceloLarin1_X_V3.2_replies_1762591914203693455.xlsx: Cannot save file into a non-existent directory: '/content/drive/MyDrive/Data_Irex/Data: Preprocessing/Twitter/Processed'\n"
          ]
        },
        {
          "output_type": "stream",
          "name": "stderr",
          "text": [
            "\rProcessing files:  25%|██▌       | 37/148 [00:04<00:09, 11.63it/s]"
          ]
        },
        {
          "output_type": "stream",
          "name": "stdout",
          "text": [
            "Error processing file /content/drive/MyDrive/Data_Irex/Data: RAW/Twitter/Comments/MarceloLarin1_X_V3.2_replies_1769124519958987101 (1).xlsx: Cannot save file into a non-existent directory: '/content/drive/MyDrive/Data_Irex/Data: Preprocessing/Twitter/Processed'\n",
            "Error processing file /content/drive/MyDrive/Data_Irex/Data: RAW/Twitter/Comments/MarceloLarin1_X_V3.2_replies_1769124519958987101.xlsx: Cannot save file into a non-existent directory: '/content/drive/MyDrive/Data_Irex/Data: Preprocessing/Twitter/Processed'\n",
            "Error processing file /content/drive/MyDrive/Data_Irex/Data: RAW/Twitter/Comments/MarceloLarin1_X_V3.2_replies_1777015697664540849 (1).xlsx: Cannot save file into a non-existent directory: '/content/drive/MyDrive/Data_Irex/Data: Preprocessing/Twitter/Processed'\n"
          ]
        },
        {
          "output_type": "stream",
          "name": "stderr",
          "text": [
            "Processing files:  28%|██▊       | 41/148 [00:04<00:08, 12.20it/s]"
          ]
        },
        {
          "output_type": "stream",
          "name": "stdout",
          "text": [
            "Error processing file /content/drive/MyDrive/Data_Irex/Data: RAW/Twitter/Comments/MarceloLarin1_X_V3.2_replies_1777015697664540849.xlsx: Cannot save file into a non-existent directory: '/content/drive/MyDrive/Data_Irex/Data: Preprocessing/Twitter/Processed'\n",
            "Error processing file /content/drive/MyDrive/Data_Irex/Data: RAW/Twitter/Comments/MarceloLarin1_X_V3.2_replies_1766883671997399247 (1).xlsx: Cannot save file into a non-existent directory: '/content/drive/MyDrive/Data_Irex/Data: Preprocessing/Twitter/Processed'\n",
            "Error processing file /content/drive/MyDrive/Data_Irex/Data: RAW/Twitter/Comments/MarceloLarin1_X_V3.2_replies_1766883671997399247.xlsx: Cannot save file into a non-existent directory: '/content/drive/MyDrive/Data_Irex/Data: Preprocessing/Twitter/Processed'\n"
          ]
        },
        {
          "output_type": "stream",
          "name": "stderr",
          "text": [
            "Processing files:  30%|███       | 45/148 [00:04<00:07, 14.05it/s]"
          ]
        },
        {
          "output_type": "stream",
          "name": "stdout",
          "text": [
            "Error processing file /content/drive/MyDrive/Data_Irex/Data: RAW/Twitter/Comments/MarceloLarin1_X_V3.2_replies_1774927390013272344.xlsx: Cannot save file into a non-existent directory: '/content/drive/MyDrive/Data_Irex/Data: Preprocessing/Twitter/Processed'\n",
            "Error processing file /content/drive/MyDrive/Data_Irex/Data: RAW/Twitter/Comments/MarceloLarin1_X_V3.2_replies_1764499656850260166.xlsx: Cannot save file into a non-existent directory: '/content/drive/MyDrive/Data_Irex/Data: Preprocessing/Twitter/Processed'\n",
            "Error processing file /content/drive/MyDrive/Data_Irex/Data: RAW/Twitter/Comments/MarceloLarin1_X_V3.2_replies_1769924171952234994.xlsx: Cannot save file into a non-existent directory: '/content/drive/MyDrive/Data_Irex/Data: Preprocessing/Twitter/Processed'\n",
            "Error processing file /content/drive/MyDrive/Data_Irex/Data: RAW/Twitter/Comments/MarceloLarin1_X_V3.2_replies_1774919380192870726.xlsx: Cannot save file into a non-existent directory: '/content/drive/MyDrive/Data_Irex/Data: Preprocessing/Twitter/Processed'\n"
          ]
        },
        {
          "output_type": "stream",
          "name": "stderr",
          "text": [
            "Processing files:  33%|███▎      | 49/148 [00:05<00:06, 14.71it/s]"
          ]
        },
        {
          "output_type": "stream",
          "name": "stdout",
          "text": [
            "Error processing file /content/drive/MyDrive/Data_Irex/Data: RAW/Twitter/Comments/MarceloLarin1_X_V3.2_replies_1781327015326392626.xlsx: Cannot save file into a non-existent directory: '/content/drive/MyDrive/Data_Irex/Data: Preprocessing/Twitter/Processed'\n",
            "Error processing file /content/drive/MyDrive/Data_Irex/Data: RAW/Twitter/Comments/CarlosManciaSv_X_V3.2_replies_1759279446081839551.xlsx: Cannot save file into a non-existent directory: '/content/drive/MyDrive/Data_Irex/Data: Preprocessing/Twitter/Processed'\n",
            "Error processing file /content/drive/MyDrive/Data_Irex/Data: RAW/Twitter/Comments/MarceloLarin1_X_V3.2_replies_1780353315630379100.xlsx: Cannot save file into a non-existent directory: '/content/drive/MyDrive/Data_Irex/Data: Preprocessing/Twitter/Processed'\n",
            "Error processing file /content/drive/MyDrive/Data_Irex/Data: RAW/Twitter/Comments/MarceloLarin1_X_V3.2_replies_1777306574224081336.xlsx: Cannot save file into a non-existent directory: '/content/drive/MyDrive/Data_Irex/Data: Preprocessing/Twitter/Processed'\n"
          ]
        },
        {
          "output_type": "stream",
          "name": "stderr",
          "text": [
            "\rProcessing files:  34%|███▍      | 51/148 [00:05<00:06, 14.50it/s]"
          ]
        },
        {
          "output_type": "stream",
          "name": "stdout",
          "text": [
            "Error processing file /content/drive/MyDrive/Data_Irex/Data: RAW/Twitter/Comments/MarceloLarin1_X_V3.2_replies_1773812404637548809.xlsx: Cannot save file into a non-existent directory: '/content/drive/MyDrive/Data_Irex/Data: Preprocessing/Twitter/Processed'\n",
            "Error processing file /content/drive/MyDrive/Data_Irex/Data: RAW/Twitter/Comments/MarceloLarin1_X_V3.2_replies_1774118316648599645.xlsx: Cannot save file into a non-existent directory: '/content/drive/MyDrive/Data_Irex/Data: Preprocessing/Twitter/Processed'\n",
            "Error processing file /content/drive/MyDrive/Data_Irex/Data: RAW/Twitter/Comments/PulsoCiudadanos_X_V3.2_replies_1751066997859782924.xlsx: Cannot save file into a non-existent directory: '/content/drive/MyDrive/Data_Irex/Data: Preprocessing/Twitter/Processed'\n"
          ]
        },
        {
          "output_type": "stream",
          "name": "stderr",
          "text": [
            "Processing files:  37%|███▋      | 55/148 [00:05<00:07, 12.96it/s]"
          ]
        },
        {
          "output_type": "stream",
          "name": "stdout",
          "text": [
            "Error processing file /content/drive/MyDrive/Data_Irex/Data: RAW/Twitter/Comments/PulsoCiudadanos_X_V3.2_replies_1782970937341624684.xlsx: Cannot save file into a non-existent directory: '/content/drive/MyDrive/Data_Irex/Data: Preprocessing/Twitter/Processed'\n",
            "Error processing file /content/drive/MyDrive/Data_Irex/Data: RAW/Twitter/Comments/PulsoCiudadanos_X_V3.2_replies_1740923091436613794.xlsx: Cannot save file into a non-existent directory: '/content/drive/MyDrive/Data_Irex/Data: Preprocessing/Twitter/Processed'\n",
            "Error processing file /content/drive/MyDrive/Data_Irex/Data: RAW/Twitter/Comments/ChristianDiffer_X_V3.2_replies_1302062819249197057.xlsx: Cannot save file into a non-existent directory: '/content/drive/MyDrive/Data_Irex/Data: Preprocessing/Twitter/Processed'\n"
          ]
        },
        {
          "output_type": "stream",
          "name": "stderr",
          "text": [
            "\rProcessing files:  39%|███▊      | 57/148 [00:05<00:07, 11.56it/s]"
          ]
        },
        {
          "output_type": "stream",
          "name": "stdout",
          "text": [
            "Error processing file /content/drive/MyDrive/Data_Irex/Data: RAW/Twitter/Comments/ChristianDiffer_X_V3.2_replies_1230718665638629382.xlsx: Cannot save file into a non-existent directory: '/content/drive/MyDrive/Data_Irex/Data: Preprocessing/Twitter/Processed'\n",
            "Error processing file /content/drive/MyDrive/Data_Irex/Data: RAW/Twitter/Comments/ChristianDiffer_X_V3.2_replies_1263845340630986752.xlsx: Cannot save file into a non-existent directory: '/content/drive/MyDrive/Data_Irex/Data: Preprocessing/Twitter/Processed'\n"
          ]
        },
        {
          "output_type": "stream",
          "name": "stderr",
          "text": [
            "\rProcessing files:  40%|███▉      | 59/148 [00:06<00:09,  9.21it/s]"
          ]
        },
        {
          "output_type": "stream",
          "name": "stdout",
          "text": [
            "Error processing file /content/drive/MyDrive/Data_Irex/Data: RAW/Twitter/Comments/ChristianDiffer_X_V3.2_replies_1479893801082802179.xlsx: Cannot save file into a non-existent directory: '/content/drive/MyDrive/Data_Irex/Data: Preprocessing/Twitter/Processed'\n",
            "Error processing file /content/drive/MyDrive/Data_Irex/Data: RAW/Twitter/Comments/ChristianDiffer_X_V3.2_replies_1184880306593107970.xlsx: Cannot save file into a non-existent directory: '/content/drive/MyDrive/Data_Irex/Data: Preprocessing/Twitter/Processed'\n",
            "Error processing file /content/drive/MyDrive/Data_Irex/Data: RAW/Twitter/Comments/ChristianDiffer_X_V3.2_replies_1265141803881320450.xlsx: Cannot save file into a non-existent directory: '/content/drive/MyDrive/Data_Irex/Data: Preprocessing/Twitter/Processed'\n",
            "Error processing file /content/drive/MyDrive/Data_Irex/Data: RAW/Twitter/Comments/ChristianDiffer_X_V3.2_replies_1298752115083485187.xlsx: Post DataFrame is empty after processing\n"
          ]
        },
        {
          "output_type": "stream",
          "name": "stderr",
          "text": [
            "Processing files:  43%|████▎     | 64/148 [00:06<00:07, 11.23it/s]"
          ]
        },
        {
          "output_type": "stream",
          "name": "stdout",
          "text": [
            "Error processing file /content/drive/MyDrive/Data_Irex/Data: RAW/Twitter/Comments/ChristianDiffer_X_V3.2_replies_1179423903959179265.xlsx: Post DataFrame is empty after processing\n",
            "Error processing file /content/drive/MyDrive/Data_Irex/Data: RAW/Twitter/Comments/ChristianDiffer_X_V3.2_replies_1279930054387130369.xlsx: Cannot save file into a non-existent directory: '/content/drive/MyDrive/Data_Irex/Data: Preprocessing/Twitter/Processed'\n",
            "Error processing file /content/drive/MyDrive/Data_Irex/Data: RAW/Twitter/Comments/ChristianDiffer_X_V3.2_replies_1460009018492170248.xlsx: Cannot save file into a non-existent directory: '/content/drive/MyDrive/Data_Irex/Data: Preprocessing/Twitter/Processed'\n"
          ]
        },
        {
          "output_type": "stream",
          "name": "stderr",
          "text": [
            "\rProcessing files:  45%|████▍     | 66/148 [00:06<00:06, 11.96it/s]"
          ]
        },
        {
          "output_type": "stream",
          "name": "stdout",
          "text": [
            "Error processing file /content/drive/MyDrive/Data_Irex/Data: RAW/Twitter/Comments/easegura_X_V3.2_replies_1755993933346222579.xlsx: Cannot save file into a non-existent directory: '/content/drive/MyDrive/Data_Irex/Data: Preprocessing/Twitter/Processed'\n",
            "Error processing file /content/drive/MyDrive/Data_Irex/Data: RAW/Twitter/Comments/easegura_X_V3.2_replies_1755298359005352291.xlsx: Cannot save file into a non-existent directory: '/content/drive/MyDrive/Data_Irex/Data: Preprocessing/Twitter/Processed'\n",
            "Error processing file /content/drive/MyDrive/Data_Irex/Data: RAW/Twitter/Comments/easegura_X_V3.2_replies_1729693076954681485.xlsx: Cannot save file into a non-existent directory: '/content/drive/MyDrive/Data_Irex/Data: Preprocessing/Twitter/Processed'\n"
          ]
        },
        {
          "output_type": "stream",
          "name": "stderr",
          "text": [
            "Processing files:  47%|████▋     | 70/148 [00:06<00:06, 11.97it/s]"
          ]
        },
        {
          "output_type": "stream",
          "name": "stdout",
          "text": [
            "Error processing file /content/drive/MyDrive/Data_Irex/Data: RAW/Twitter/Comments/easegura_X_V3.2_replies_1497703508744753152.xlsx: Cannot save file into a non-existent directory: '/content/drive/MyDrive/Data_Irex/Data: Preprocessing/Twitter/Processed'\n",
            "Error processing file /content/drive/MyDrive/Data_Irex/Data: RAW/Twitter/Comments/easegura_X_V3.2_replies_1476746897196994567.xlsx: Cannot save file into a non-existent directory: '/content/drive/MyDrive/Data_Irex/Data: Preprocessing/Twitter/Processed'\n",
            "Error processing file /content/drive/MyDrive/Data_Irex/Data: RAW/Twitter/Comments/easegura_X_V3.2_replies_1457459474596343808.xlsx: Cannot save file into a non-existent directory: '/content/drive/MyDrive/Data_Irex/Data: Preprocessing/Twitter/Processed'\n"
          ]
        },
        {
          "output_type": "stream",
          "name": "stderr",
          "text": [
            "\rProcessing files:  49%|████▊     | 72/148 [00:07<00:06, 12.06it/s]"
          ]
        },
        {
          "output_type": "stream",
          "name": "stdout",
          "text": [
            "Error processing file /content/drive/MyDrive/Data_Irex/Data: RAW/Twitter/Comments/easegura_X_V3.2_replies_1442281871983976451.xlsx: Cannot save file into a non-existent directory: '/content/drive/MyDrive/Data_Irex/Data: Preprocessing/Twitter/Processed'\n",
            "Error processing file /content/drive/MyDrive/Data_Irex/Data: RAW/Twitter/Comments/easegura_X_V3.2_replies_1434017514221195266.xlsx: Cannot save file into a non-existent directory: '/content/drive/MyDrive/Data_Irex/Data: Preprocessing/Twitter/Processed'\n",
            "Error processing file /content/drive/MyDrive/Data_Irex/Data: RAW/Twitter/Comments/easegura_X_V3.2_replies_1417991263928954880.xlsx: Cannot save file into a non-existent directory: '/content/drive/MyDrive/Data_Irex/Data: Preprocessing/Twitter/Processed'\n"
          ]
        },
        {
          "output_type": "stream",
          "name": "stderr",
          "text": [
            "Processing files:  51%|█████▏    | 76/148 [00:07<00:05, 12.62it/s]"
          ]
        },
        {
          "output_type": "stream",
          "name": "stdout",
          "text": [
            "Error processing file /content/drive/MyDrive/Data_Irex/Data: RAW/Twitter/Comments/easegura_X_V3.2_replies_1123660071903297536.xlsx: Cannot save file into a non-existent directory: '/content/drive/MyDrive/Data_Irex/Data: Preprocessing/Twitter/Processed'\n",
            "Error processing file /content/drive/MyDrive/Data_Irex/Data: RAW/Twitter/Comments/MariaLuisaHayem_X_V3.2_replies_1270013941469626368.xlsx: Cannot save file into a non-existent directory: '/content/drive/MyDrive/Data_Irex/Data: Preprocessing/Twitter/Processed'\n",
            "Error processing file /content/drive/MyDrive/Data_Irex/Data: RAW/Twitter/Comments/MariaLuisaHayem_X_V3.2_replies_1317915762653302785.xlsx: Cannot save file into a non-existent directory: '/content/drive/MyDrive/Data_Irex/Data: Preprocessing/Twitter/Processed'\n"
          ]
        },
        {
          "output_type": "stream",
          "name": "stderr",
          "text": [
            "\rProcessing files:  53%|█████▎    | 78/148 [00:07<00:05, 12.34it/s]"
          ]
        },
        {
          "output_type": "stream",
          "name": "stdout",
          "text": [
            "Error processing file /content/drive/MyDrive/Data_Irex/Data: RAW/Twitter/Comments/MariaLuisaHayem_X_V3.2_replies_1262590426357391361.xlsx: Cannot save file into a non-existent directory: '/content/drive/MyDrive/Data_Irex/Data: Preprocessing/Twitter/Processed'\n",
            "Error processing file /content/drive/MyDrive/Data_Irex/Data: RAW/Twitter/Comments/MariaLuisaHayem_X_V3.2_replies_1266908776117960704.xlsx: Cannot save file into a non-existent directory: '/content/drive/MyDrive/Data_Irex/Data: Preprocessing/Twitter/Processed'\n"
          ]
        },
        {
          "output_type": "stream",
          "name": "stderr",
          "text": [
            "\rProcessing files:  54%|█████▍    | 80/148 [00:07<00:06, 11.04it/s]"
          ]
        },
        {
          "output_type": "stream",
          "name": "stdout",
          "text": [
            "Error processing file /content/drive/MyDrive/Data_Irex/Data: RAW/Twitter/Comments/MariaLuisaHayem_X_V3.2_replies_1270103548244746241.xlsx: Cannot save file into a non-existent directory: '/content/drive/MyDrive/Data_Irex/Data: Preprocessing/Twitter/Processed'\n",
            "Error processing file /content/drive/MyDrive/Data_Irex/Data: RAW/Twitter/Comments/MariaLuisaHayem_X_V3.2_replies_1256694196427264003.xlsx: Cannot save file into a non-existent directory: '/content/drive/MyDrive/Data_Irex/Data: Preprocessing/Twitter/Processed'\n",
            "Error processing file /content/drive/MyDrive/Data_Irex/Data: RAW/Twitter/Comments/MariaLuisaHayem_X_V3.2_replies_1266908778286518272.xlsx: Cannot save file into a non-existent directory: '/content/drive/MyDrive/Data_Irex/Data: Preprocessing/Twitter/Processed'\n"
          ]
        },
        {
          "output_type": "stream",
          "name": "stderr",
          "text": [
            "Processing files:  57%|█████▋    | 84/148 [00:08<00:05, 12.62it/s]"
          ]
        },
        {
          "output_type": "stream",
          "name": "stdout",
          "text": [
            "Error processing file /content/drive/MyDrive/Data_Irex/Data: RAW/Twitter/Comments/MariaLuisaHayem_X_V3.2_replies_1270121333968572424.xlsx: Cannot save file into a non-existent directory: '/content/drive/MyDrive/Data_Irex/Data: Preprocessing/Twitter/Processed'\n",
            "Error processing file /content/drive/MyDrive/Data_Irex/Data: RAW/Twitter/Comments/MariaLuisaHayem_X_V3.2_replies_1270013943679942659.xlsx: Post DataFrame is empty after processing\n",
            "Error processing file /content/drive/MyDrive/Data_Irex/Data: RAW/Twitter/Comments/MariaLuisaHayem_X_V3.2_replies_1573682267133706241.xlsx: Cannot save file into a non-existent directory: '/content/drive/MyDrive/Data_Irex/Data: Preprocessing/Twitter/Processed'\n",
            "Error processing file /content/drive/MyDrive/Data_Irex/Data: RAW/Twitter/Comments/MariaLuisaHayem_X_V3.2_replies_1434953238042849283.xlsx: Cannot save file into a non-existent directory: '/content/drive/MyDrive/Data_Irex/Data: Preprocessing/Twitter/Processed'\n"
          ]
        },
        {
          "output_type": "stream",
          "name": "stderr",
          "text": [
            "\rProcessing files:  58%|█████▊    | 86/148 [00:08<00:04, 13.65it/s]"
          ]
        },
        {
          "output_type": "stream",
          "name": "stdout",
          "text": [
            "Error processing file /content/drive/MyDrive/Data_Irex/Data: RAW/Twitter/Comments/MariaLuisaHayem_X_V3.2_replies_1268038746907250689.xlsx: Cannot save file into a non-existent directory: '/content/drive/MyDrive/Data_Irex/Data: Preprocessing/Twitter/Processed'\n",
            "Error processing file /content/drive/MyDrive/Data_Irex/Data: RAW/Twitter/Comments/suecallejas_X_V3.2_replies_1786430963947335686.xlsx: Cannot save file into a non-existent directory: '/content/drive/MyDrive/Data_Irex/Data: Preprocessing/Twitter/Processed'\n"
          ]
        },
        {
          "output_type": "stream",
          "name": "stderr",
          "text": [
            "\rProcessing files:  59%|█████▉    | 88/148 [00:08<00:05, 11.16it/s]"
          ]
        },
        {
          "output_type": "stream",
          "name": "stdout",
          "text": [
            "Error processing file /content/drive/MyDrive/Data_Irex/Data: RAW/Twitter/Comments/suecallejas_X_V3.2_replies_1785059015241662849.xlsx: Cannot save file into a non-existent directory: '/content/drive/MyDrive/Data_Irex/Data: Preprocessing/Twitter/Processed'\n",
            "Error processing file /content/drive/MyDrive/Data_Irex/Data: RAW/Twitter/Comments/suecallejas_X_V3.2_replies_1785061557413581164.xlsx: Cannot save file into a non-existent directory: '/content/drive/MyDrive/Data_Irex/Data: Preprocessing/Twitter/Processed'\n"
          ]
        },
        {
          "output_type": "stream",
          "name": "stderr",
          "text": [
            "\rProcessing files:  61%|██████    | 90/148 [00:08<00:05, 10.06it/s]"
          ]
        },
        {
          "output_type": "stream",
          "name": "stdout",
          "text": [
            "Error processing file /content/drive/MyDrive/Data_Irex/Data: RAW/Twitter/Comments/suecallejas_X_V3.2_replies_1785029768347353163.xlsx: Cannot save file into a non-existent directory: '/content/drive/MyDrive/Data_Irex/Data: Preprocessing/Twitter/Processed'\n",
            "Error processing file /content/drive/MyDrive/Data_Irex/Data: RAW/Twitter/Comments/suecallejas_X_V3.2_replies_1786161451335295068.xlsx: Cannot save file into a non-existent directory: '/content/drive/MyDrive/Data_Irex/Data: Preprocessing/Twitter/Processed'\n"
          ]
        },
        {
          "output_type": "stream",
          "name": "stderr",
          "text": [
            "Processing files:  64%|██████▎   | 94/148 [00:09<00:05, 10.23it/s]"
          ]
        },
        {
          "output_type": "stream",
          "name": "stdout",
          "text": [
            "Error processing file /content/drive/MyDrive/Data_Irex/Data: RAW/Twitter/Comments/suecallejas_X_V3.2_replies_1788666653514846531.xlsx: Cannot save file into a non-existent directory: '/content/drive/MyDrive/Data_Irex/Data: Preprocessing/Twitter/Processed'\n",
            "Error processing file /content/drive/MyDrive/Data_Irex/Data: RAW/Twitter/Comments/suecallejas_X_V3.2_replies_1786191309767655900.xlsx: Cannot save file into a non-existent directory: '/content/drive/MyDrive/Data_Irex/Data: Preprocessing/Twitter/Processed'\n",
            "Error processing file /content/drive/MyDrive/Data_Irex/Data: RAW/Twitter/Comments/suecallejas_X_V3.2_replies_1785125710568309081.xlsx: Cannot save file into a non-existent directory: '/content/drive/MyDrive/Data_Irex/Data: Preprocessing/Twitter/Processed'\n"
          ]
        },
        {
          "output_type": "stream",
          "name": "stderr",
          "text": [
            "\rProcessing files:  65%|██████▍   | 96/148 [00:09<00:04, 10.56it/s]"
          ]
        },
        {
          "output_type": "stream",
          "name": "stdout",
          "text": [
            "Error processing file /content/drive/MyDrive/Data_Irex/Data: RAW/Twitter/Comments/suecallejas_X_V3.2_replies_1786560665257202069.xlsx: Cannot save file into a non-existent directory: '/content/drive/MyDrive/Data_Irex/Data: Preprocessing/Twitter/Processed'\n",
            "Error processing file /content/drive/MyDrive/Data_Irex/Data: RAW/Twitter/Comments/suecallejas_X_V3.2_replies_1785857694357700867.xlsx: Cannot save file into a non-existent directory: '/content/drive/MyDrive/Data_Irex/Data: Preprocessing/Twitter/Processed'\n",
            "Error processing file /content/drive/MyDrive/Data_Irex/Data: RAW/Twitter/Comments/suecallejas_X_V3.2_replies_1785124788811210985.xlsx: Cannot save file into a non-existent directory: '/content/drive/MyDrive/Data_Irex/Data: Preprocessing/Twitter/Processed'\n"
          ]
        },
        {
          "output_type": "stream",
          "name": "stderr",
          "text": [
            "Processing files:  67%|██████▋   | 99/148 [00:09<00:05,  8.35it/s]"
          ]
        },
        {
          "output_type": "stream",
          "name": "stdout",
          "text": [
            "Error processing file /content/drive/MyDrive/Data_Irex/Data: RAW/Twitter/Comments/fulloa51_X_V3.2_replies_1770936553839145077.xlsx: Cannot save file into a non-existent directory: '/content/drive/MyDrive/Data_Irex/Data: Preprocessing/Twitter/Processed'\n",
            "Error processing file /content/drive/MyDrive/Data_Irex/Data: RAW/Twitter/Comments/fulloa51_X_V3.2_replies_1785089834446356753.xlsx: Cannot save file into a non-existent directory: '/content/drive/MyDrive/Data_Irex/Data: Preprocessing/Twitter/Processed'\n"
          ]
        },
        {
          "output_type": "stream",
          "name": "stderr",
          "text": [
            "Processing files:  69%|██████▉   | 102/148 [00:10<00:05,  8.84it/s]"
          ]
        },
        {
          "output_type": "stream",
          "name": "stdout",
          "text": [
            "Error processing file /content/drive/MyDrive/Data_Irex/Data: RAW/Twitter/Comments/fulloa51_X_V3.2_replies_1785645992382996952.xlsx: Cannot save file into a non-existent directory: '/content/drive/MyDrive/Data_Irex/Data: Preprocessing/Twitter/Processed'\n",
            "Error processing file /content/drive/MyDrive/Data_Irex/Data: RAW/Twitter/Comments/fulloa51_X_V3.2_replies_1788773644874744120.xlsx: Cannot save file into a non-existent directory: '/content/drive/MyDrive/Data_Irex/Data: Preprocessing/Twitter/Processed'\n",
            "Error processing file /content/drive/MyDrive/Data_Irex/Data: RAW/Twitter/Comments/fulloa51_X_V3.2_replies_1763375373742395812.xlsx: Cannot save file into a non-existent directory: '/content/drive/MyDrive/Data_Irex/Data: Preprocessing/Twitter/Processed'\n"
          ]
        },
        {
          "output_type": "stream",
          "name": "stderr",
          "text": [
            "\rProcessing files:  70%|███████   | 104/148 [00:10<00:05,  8.23it/s]"
          ]
        },
        {
          "output_type": "stream",
          "name": "stdout",
          "text": [
            "Error processing file /content/drive/MyDrive/Data_Irex/Data: RAW/Twitter/Comments/fulloa51_X_V3.2_replies_1775989419977167225.xlsx: Cannot save file into a non-existent directory: '/content/drive/MyDrive/Data_Irex/Data: Preprocessing/Twitter/Processed'\n",
            "Error processing file /content/drive/MyDrive/Data_Irex/Data: RAW/Twitter/Comments/Vi11atoro_X_V3.2_replies_1788720348776567255.xlsx: Cannot save file into a non-existent directory: '/content/drive/MyDrive/Data_Irex/Data: Preprocessing/Twitter/Processed'\n"
          ]
        },
        {
          "output_type": "stream",
          "name": "stderr",
          "text": [
            "Processing files:  72%|███████▏  | 106/148 [00:10<00:06,  6.25it/s]"
          ]
        },
        {
          "output_type": "stream",
          "name": "stdout",
          "text": [
            "Error processing file /content/drive/MyDrive/Data_Irex/Data: RAW/Twitter/Comments/Vi11atoro_X_V3.2_replies_1778618349162791374.xlsx: Cannot save file into a non-existent directory: '/content/drive/MyDrive/Data_Irex/Data: Preprocessing/Twitter/Processed'\n",
            "Error processing file /content/drive/MyDrive/Data_Irex/Data: RAW/Twitter/Comments/Vi11atoro_X_V3.2_replies_1762477634531758188.xlsx: Cannot save file into a non-existent directory: '/content/drive/MyDrive/Data_Irex/Data: Preprocessing/Twitter/Processed'\n"
          ]
        },
        {
          "output_type": "stream",
          "name": "stderr",
          "text": [
            "Processing files:  73%|███████▎  | 108/148 [00:11<00:06,  5.81it/s]"
          ]
        },
        {
          "output_type": "stream",
          "name": "stdout",
          "text": [
            "Error processing file /content/drive/MyDrive/Data_Irex/Data: RAW/Twitter/Comments/Vi11atoro_X_V3.2_replies_1767373813526737223.xlsx: Cannot save file into a non-existent directory: '/content/drive/MyDrive/Data_Irex/Data: Preprocessing/Twitter/Processed'\n",
            "Error processing file /content/drive/MyDrive/Data_Irex/Data: RAW/Twitter/Comments/Vi11atoro_X_V3.2_replies_1767614710155715049.xlsx: Cannot save file into a non-existent directory: '/content/drive/MyDrive/Data_Irex/Data: Preprocessing/Twitter/Processed'\n"
          ]
        },
        {
          "output_type": "stream",
          "name": "stderr",
          "text": [
            "Processing files:  74%|███████▍  | 110/148 [00:11<00:06,  5.81it/s]"
          ]
        },
        {
          "output_type": "stream",
          "name": "stdout",
          "text": [
            "Error processing file /content/drive/MyDrive/Data_Irex/Data: RAW/Twitter/Comments/Vi11atoro_X_V3.2_replies_1761495675777212428.xlsx: Cannot save file into a non-existent directory: '/content/drive/MyDrive/Data_Irex/Data: Preprocessing/Twitter/Processed'\n",
            "Error processing file /content/drive/MyDrive/Data_Irex/Data: RAW/Twitter/Comments/Vi11atoro_X_V3.2_replies_1777333531716235689.xlsx: Cannot save file into a non-existent directory: '/content/drive/MyDrive/Data_Irex/Data: Preprocessing/Twitter/Processed'\n"
          ]
        },
        {
          "output_type": "stream",
          "name": "stderr",
          "text": [
            "Processing files:  76%|███████▌  | 112/148 [00:11<00:06,  5.87it/s]"
          ]
        },
        {
          "output_type": "stream",
          "name": "stdout",
          "text": [
            "Error processing file /content/drive/MyDrive/Data_Irex/Data: RAW/Twitter/Comments/Vi11atoro_X_V3.2_replies_1763075516829966767.xlsx: Cannot save file into a non-existent directory: '/content/drive/MyDrive/Data_Irex/Data: Preprocessing/Twitter/Processed'\n",
            "Error processing file /content/drive/MyDrive/Data_Irex/Data: RAW/Twitter/Comments/Vi11atoro_X_V3.2_replies_1762285794952147099.xlsx: Cannot save file into a non-existent directory: '/content/drive/MyDrive/Data_Irex/Data: Preprocessing/Twitter/Processed'\n"
          ]
        },
        {
          "output_type": "stream",
          "name": "stderr",
          "text": [
            "Processing files:  77%|███████▋  | 114/148 [00:12<00:05,  5.87it/s]"
          ]
        },
        {
          "output_type": "stream",
          "name": "stdout",
          "text": [
            "Error processing file /content/drive/MyDrive/Data_Irex/Data: RAW/Twitter/Comments/Vi11atoro_X_V3.2_replies_1765932707098329105.xlsx: Cannot save file into a non-existent directory: '/content/drive/MyDrive/Data_Irex/Data: Preprocessing/Twitter/Processed'\n",
            "Error processing file /content/drive/MyDrive/Data_Irex/Data: RAW/Twitter/Comments/FranAlabi_X_V3.2_replies_1660153154791456768.xlsx: Cannot save file into a non-existent directory: '/content/drive/MyDrive/Data_Irex/Data: Preprocessing/Twitter/Processed'\n"
          ]
        },
        {
          "output_type": "stream",
          "name": "stderr",
          "text": [
            "Processing files:  78%|███████▊  | 116/148 [00:12<00:04,  7.33it/s]"
          ]
        },
        {
          "output_type": "stream",
          "name": "stdout",
          "text": [
            "Error processing file /content/drive/MyDrive/Data_Irex/Data: RAW/Twitter/Comments/FranAlabi_X_V3.2_replies_1391568130200190981.xlsx: Cannot save file into a non-existent directory: '/content/drive/MyDrive/Data_Irex/Data: Preprocessing/Twitter/Processed'\n",
            "Error processing file /content/drive/MyDrive/Data_Irex/Data: RAW/Twitter/Comments/FranAlabi_X_V3.2_replies_1377075242875650048.xlsx: Cannot save file into a non-existent directory: '/content/drive/MyDrive/Data_Irex/Data: Preprocessing/Twitter/Processed'\n"
          ]
        },
        {
          "output_type": "stream",
          "name": "stderr",
          "text": [
            "\rProcessing files:  79%|███████▉  | 117/148 [00:12<00:03,  7.81it/s]"
          ]
        },
        {
          "output_type": "stream",
          "name": "stdout",
          "text": [
            "Error processing file /content/drive/MyDrive/Data_Irex/Data: RAW/Twitter/Comments/FranAlabi_X_V3.2_replies_1366562547512573955.xlsx: Cannot save file into a non-existent directory: '/content/drive/MyDrive/Data_Irex/Data: Preprocessing/Twitter/Processed'\n",
            "Error processing file /content/drive/MyDrive/Data_Irex/Data: RAW/Twitter/Comments/FranAlabi_X_V3.2_replies_1362080410595958789.xlsx: Cannot save file into a non-existent directory: '/content/drive/MyDrive/Data_Irex/Data: Preprocessing/Twitter/Processed'\n"
          ]
        },
        {
          "output_type": "stream",
          "name": "stderr",
          "text": [
            "Processing files:  81%|████████  | 120/148 [00:12<00:03,  7.85it/s]"
          ]
        },
        {
          "output_type": "stream",
          "name": "stdout",
          "text": [
            "Error processing file /content/drive/MyDrive/Data_Irex/Data: RAW/Twitter/Comments/FranAlabi_X_V3.2_replies_1299463579020730371.xlsx: Cannot save file into a non-existent directory: '/content/drive/MyDrive/Data_Irex/Data: Preprocessing/Twitter/Processed'\n",
            "Error processing file /content/drive/MyDrive/Data_Irex/Data: RAW/Twitter/Comments/MarceloLarin1_X_V3.2_replies_1759232096231407675 (1).xlsx: Cannot save file into a non-existent directory: '/content/drive/MyDrive/Data_Irex/Data: Preprocessing/Twitter/Processed'\n"
          ]
        },
        {
          "output_type": "stream",
          "name": "stderr",
          "text": [
            "Processing files:  83%|████████▎ | 123/148 [00:13<00:02,  9.17it/s]"
          ]
        },
        {
          "output_type": "stream",
          "name": "stdout",
          "text": [
            "Error processing file /content/drive/MyDrive/Data_Irex/Data: RAW/Twitter/Comments/MarceloLarin1_X_V3.2_replies_1777826121175748874 (1).xlsx: Cannot save file into a non-existent directory: '/content/drive/MyDrive/Data_Irex/Data: Preprocessing/Twitter/Processed'\n",
            "Error processing file /content/drive/MyDrive/Data_Irex/Data: RAW/Twitter/Comments/PulsoCiudadanos_X_V3.2_replies_1765926079418572987.xlsx: Cannot save file into a non-existent directory: '/content/drive/MyDrive/Data_Irex/Data: Preprocessing/Twitter/Processed'\n",
            "Error processing file /content/drive/MyDrive/Data_Irex/Data: RAW/Twitter/Comments/FranAlabi_X_V3.2_replies_1699541231196410228.xlsx: Cannot save file into a non-existent directory: '/content/drive/MyDrive/Data_Irex/Data: Preprocessing/Twitter/Processed'\n"
          ]
        },
        {
          "output_type": "stream",
          "name": "stderr",
          "text": [
            "Processing files:  84%|████████▍ | 125/148 [00:13<00:03,  7.60it/s]"
          ]
        },
        {
          "output_type": "stream",
          "name": "stdout",
          "text": [
            "Error processing file /content/drive/MyDrive/Data_Irex/Data: RAW/Twitter/Comments/FranAlabi_X_V3.2_replies_1660741726393212928.xlsx: Cannot save file into a non-existent directory: '/content/drive/MyDrive/Data_Irex/Data: Preprocessing/Twitter/Processed'\n",
            "Error processing file /content/drive/MyDrive/Data_Irex/Data: RAW/Twitter/Comments/ChristianDiffer_X_V3.2_replies_1230244851544985600.xlsx: Cannot save file into a non-existent directory: '/content/drive/MyDrive/Data_Irex/Data: Preprocessing/Twitter/Processed'\n"
          ]
        },
        {
          "output_type": "stream",
          "name": "stderr",
          "text": [
            "Processing files:  86%|████████▌ | 127/148 [00:13<00:02,  7.85it/s]"
          ]
        },
        {
          "output_type": "stream",
          "name": "stdout",
          "text": [
            "Error processing file /content/drive/MyDrive/Data_Irex/Data: RAW/Twitter/Comments/easegura_X_V3.2_replies_1664508542294933504.xlsx: Cannot save file into a non-existent directory: '/content/drive/MyDrive/Data_Irex/Data: Preprocessing/Twitter/Processed'\n",
            "Error processing file /content/drive/MyDrive/Data_Irex/Data: RAW/Twitter/Comments/fulloa51_X_V3.2_replies_1764113365964653035.xlsx: Cannot save file into a non-existent directory: '/content/drive/MyDrive/Data_Irex/Data: Preprocessing/Twitter/Processed'\n",
            "Error processing file /content/drive/MyDrive/Data_Irex/Data: RAW/Twitter/Comments/NoticieroSLV_X_V3.2_replies_1785687050705924171.xlsx: Cannot save file into a non-existent directory: '/content/drive/MyDrive/Data_Irex/Data: Preprocessing/Twitter/Processed'\n"
          ]
        },
        {
          "output_type": "stream",
          "name": "stderr",
          "text": [
            "Processing files:  89%|████████▊ | 131/148 [00:13<00:01, 11.65it/s]"
          ]
        },
        {
          "output_type": "stream",
          "name": "stdout",
          "text": [
            "Error processing file /content/drive/MyDrive/Data_Irex/Data: RAW/Twitter/Comments/NoticieroSLV_X_V3.2_replies_1783307438315258095.xlsx: Cannot save file into a non-existent directory: '/content/drive/MyDrive/Data_Irex/Data: Preprocessing/Twitter/Processed'\n",
            "Error processing file /content/drive/MyDrive/Data_Irex/Data: RAW/Twitter/Comments/NoticieroSLV_X_V3.2_replies_1783806980257366367.xlsx: Cannot save file into a non-existent directory: '/content/drive/MyDrive/Data_Irex/Data: Preprocessing/Twitter/Processed'\n",
            "Error processing file /content/drive/MyDrive/Data_Irex/Data: RAW/Twitter/Comments/ysuca91siete_X_V3.2_replies_1773469661520109990.xlsx: Cannot save file into a non-existent directory: '/content/drive/MyDrive/Data_Irex/Data: Preprocessing/Twitter/Processed'\n"
          ]
        },
        {
          "output_type": "stream",
          "name": "stderr",
          "text": [
            "Processing files:  91%|█████████ | 135/148 [00:14<00:00, 13.52it/s]"
          ]
        },
        {
          "output_type": "stream",
          "name": "stdout",
          "text": [
            "Error processing file /content/drive/MyDrive/Data_Irex/Data: RAW/Twitter/Comments/ysuca91siete_X_V3.2_replies_1785704402168242639.xlsx: Cannot save file into a non-existent directory: '/content/drive/MyDrive/Data_Irex/Data: Preprocessing/Twitter/Processed'\n",
            "Error processing file /content/drive/MyDrive/Data_Irex/Data: RAW/Twitter/Comments/ysuca91siete_X_V3.2_replies_1785082871352537458.xlsx: Cannot save file into a non-existent directory: '/content/drive/MyDrive/Data_Irex/Data: Preprocessing/Twitter/Processed'\n",
            "Error processing file /content/drive/MyDrive/Data_Irex/Data: RAW/Twitter/Comments/ysuca91siete_X_V3.2_replies_1776988305906606587.xlsx: Cannot save file into a non-existent directory: '/content/drive/MyDrive/Data_Irex/Data: Preprocessing/Twitter/Processed'\n",
            "Error processing file /content/drive/MyDrive/Data_Irex/Data: RAW/Twitter/Comments/ysuca91siete_X_V3.2_replies_1785711922479808742.xlsx: Cannot save file into a non-existent directory: '/content/drive/MyDrive/Data_Irex/Data: Preprocessing/Twitter/Processed'\n"
          ]
        },
        {
          "output_type": "stream",
          "name": "stderr",
          "text": [
            "Processing files:  94%|█████████▍| 139/148 [00:14<00:00, 13.01it/s]"
          ]
        },
        {
          "output_type": "stream",
          "name": "stdout",
          "text": [
            "Error processing file /content/drive/MyDrive/Data_Irex/Data: RAW/Twitter/Comments/ysuca91siete_X_V3.2_replies_1783879797468168553.xlsx: Cannot save file into a non-existent directory: '/content/drive/MyDrive/Data_Irex/Data: Preprocessing/Twitter/Processed'\n",
            "Error processing file /content/drive/MyDrive/Data_Irex/Data: RAW/Twitter/Comments/ysuca91siete_X_V3.2_replies_1776701409460633813.xlsx: Cannot save file into a non-existent directory: '/content/drive/MyDrive/Data_Irex/Data: Preprocessing/Twitter/Processed'\n",
            "Error processing file /content/drive/MyDrive/Data_Irex/Data: RAW/Twitter/Comments/ysuca91siete_X_V3.2_replies_1784237091460649170.xlsx: Cannot save file into a non-existent directory: '/content/drive/MyDrive/Data_Irex/Data: Preprocessing/Twitter/Processed'\n",
            "Error processing file /content/drive/MyDrive/Data_Irex/Data: RAW/Twitter/Comments/ysuca91siete_X_V3.2_replies_1779898296737079312.xlsx: Cannot save file into a non-existent directory: '/content/drive/MyDrive/Data_Irex/Data: Preprocessing/Twitter/Processed'\n"
          ]
        },
        {
          "output_type": "stream",
          "name": "stderr",
          "text": [
            "Processing files:  97%|█████████▋| 143/148 [00:14<00:00, 15.03it/s]"
          ]
        },
        {
          "output_type": "stream",
          "name": "stdout",
          "text": [
            "Error processing file /content/drive/MyDrive/Data_Irex/Data: RAW/Twitter/Comments/ysuca91siete_X_V3.2_replies_1786046500583190702.xlsx: Cannot save file into a non-existent directory: '/content/drive/MyDrive/Data_Irex/Data: Preprocessing/Twitter/Processed'\n",
            "Error processing file /content/drive/MyDrive/Data_Irex/Data: RAW/Twitter/Comments/andresguzm_X_V3.2_replies_1727067358349414796.xlsx: Cannot save file into a non-existent directory: '/content/drive/MyDrive/Data_Irex/Data: Preprocessing/Twitter/Processed'\n",
            "Error processing file /content/drive/MyDrive/Data_Irex/Data: RAW/Twitter/Comments/andresguzm_X_V3.2_replies_1743277817154916369.xlsx: Cannot save file into a non-existent directory: '/content/drive/MyDrive/Data_Irex/Data: Preprocessing/Twitter/Processed'\n",
            "Error processing file /content/drive/MyDrive/Data_Irex/Data: RAW/Twitter/Comments/andresguzm_X_V3.2_replies_1760607082376519973.xlsx: Cannot save file into a non-existent directory: '/content/drive/MyDrive/Data_Irex/Data: Preprocessing/Twitter/Processed'\n"
          ]
        },
        {
          "output_type": "stream",
          "name": "stderr",
          "text": [
            "\rProcessing files:  99%|█████████▊| 146/148 [00:14<00:00, 16.94it/s]"
          ]
        },
        {
          "output_type": "stream",
          "name": "stdout",
          "text": [
            "Error processing file /content/drive/MyDrive/Data_Irex/Data: RAW/Twitter/Comments/andresguzm_X_V3.2_replies_1769337928327614558.xlsx: Cannot save file into a non-existent directory: '/content/drive/MyDrive/Data_Irex/Data: Preprocessing/Twitter/Processed'\n",
            "Error processing file /content/drive/MyDrive/Data_Irex/Data: RAW/Twitter/Comments/andresguzm_X_V3.2_replies_1743328759866851688.xlsx: Cannot save file into a non-existent directory: '/content/drive/MyDrive/Data_Irex/Data: Preprocessing/Twitter/Processed'\n",
            "Error processing file /content/drive/MyDrive/Data_Irex/Data: RAW/Twitter/Comments/andresguzm_X_V3.2_replies_1599405529486409730.xlsx: Cannot save file into a non-existent directory: '/content/drive/MyDrive/Data_Irex/Data: Preprocessing/Twitter/Processed'\n",
            "Error processing file /content/drive/MyDrive/Data_Irex/Data: RAW/Twitter/Comments/PulsoCiudadanos_X_V3.2_replies_1760148904681640184.xlsx: Cannot save file into a non-existent directory: '/content/drive/MyDrive/Data_Irex/Data: Preprocessing/Twitter/Processed'\n"
          ]
        },
        {
          "output_type": "stream",
          "name": "stderr",
          "text": [
            "Processing files: 100%|██████████| 148/148 [00:15<00:00,  9.77it/s]"
          ]
        },
        {
          "output_type": "stream",
          "name": "stdout",
          "text": [
            "Error processing file /content/drive/MyDrive/Data_Irex/Data: RAW/Twitter/Comments/andresguzm_X_V3.2_replies_1682728543069896705.xlsx: Cannot save file into a non-existent directory: '/content/drive/MyDrive/Data_Irex/Data: Preprocessing/Twitter/Processed'\n"
          ]
        },
        {
          "output_type": "stream",
          "name": "stderr",
          "text": [
            "\n"
          ]
        }
      ]
    }
  ]
}