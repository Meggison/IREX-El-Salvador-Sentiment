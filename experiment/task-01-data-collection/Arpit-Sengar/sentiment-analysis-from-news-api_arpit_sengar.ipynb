{
 "cells": [
  {
   "cell_type": "code",
   "execution_count": 29,
   "metadata": {},
   "outputs": [
    {
     "name": "stdout",
     "output_type": "stream",
     "text": [
      "Looking in indexes: https://pypi.org/simple, https://pypi.ngc.nvidia.com\n",
      "Requirement already satisfied: textblob in c:\\users\\arpit\\anaconda3\\envs\\arpit-test\\lib\\site-packages (0.17.1)\n",
      "Requirement already satisfied: requests in c:\\users\\arpit\\anaconda3\\envs\\arpit-test\\lib\\site-packages (2.31.0)\n",
      "Requirement already satisfied: beautifulsoup4 in c:\\users\\arpit\\anaconda3\\envs\\arpit-test\\lib\\site-packages (4.12.2)\n",
      "Requirement already satisfied: python-dotenv in c:\\users\\arpit\\anaconda3\\envs\\arpit-test\\lib\\site-packages (1.0.1)\n",
      "Requirement already satisfied: pandas in c:\\users\\arpit\\anaconda3\\envs\\arpit-test\\lib\\site-packages (1.5.3)\n",
      "Requirement already satisfied: tqdm in c:\\users\\arpit\\anaconda3\\envs\\arpit-test\\lib\\site-packages (4.66.1)\n",
      "Requirement already satisfied: termcolor in c:\\users\\arpit\\anaconda3\\envs\\arpit-test\\lib\\site-packages (2.4.0)\n",
      "Requirement already satisfied: nltk>=3.1 in c:\\users\\arpit\\anaconda3\\envs\\arpit-test\\lib\\site-packages (from textblob) (3.8.1)\n",
      "Requirement already satisfied: charset-normalizer<4,>=2 in c:\\users\\arpit\\anaconda3\\envs\\arpit-test\\lib\\site-packages (from requests) (3.3.2)\n",
      "Requirement already satisfied: idna<4,>=2.5 in c:\\users\\arpit\\anaconda3\\envs\\arpit-test\\lib\\site-packages (from requests) (3.4)\n",
      "Requirement already satisfied: urllib3<3,>=1.21.1 in c:\\users\\arpit\\anaconda3\\envs\\arpit-test\\lib\\site-packages (from requests) (2.0.7)\n",
      "Requirement already satisfied: certifi>=2017.4.17 in c:\\users\\arpit\\anaconda3\\envs\\arpit-test\\lib\\site-packages (from requests) (2023.7.22)\n",
      "Requirement already satisfied: soupsieve>1.2 in c:\\users\\arpit\\anaconda3\\envs\\arpit-test\\lib\\site-packages (from beautifulsoup4) (2.5)\n",
      "Requirement already satisfied: python-dateutil>=2.8.1 in c:\\users\\arpit\\appdata\\roaming\\python\\python311\\site-packages (from pandas) (2.8.2)\n",
      "Requirement already satisfied: pytz>=2020.1 in c:\\users\\arpit\\anaconda3\\envs\\arpit-test\\lib\\site-packages (from pandas) (2023.3.post1)\n",
      "Requirement already satisfied: numpy>=1.21.0 in c:\\users\\arpit\\anaconda3\\envs\\arpit-test\\lib\\site-packages (from pandas) (1.23.5)\n",
      "Requirement already satisfied: colorama in c:\\users\\arpit\\appdata\\roaming\\python\\python311\\site-packages (from tqdm) (0.4.6)\n",
      "Requirement already satisfied: click in c:\\users\\arpit\\anaconda3\\envs\\arpit-test\\lib\\site-packages (from nltk>=3.1->textblob) (8.1.7)\n",
      "Requirement already satisfied: joblib in c:\\users\\arpit\\anaconda3\\envs\\arpit-test\\lib\\site-packages (from nltk>=3.1->textblob) (1.3.2)\n",
      "Requirement already satisfied: regex>=2021.8.3 in c:\\users\\arpit\\anaconda3\\envs\\arpit-test\\lib\\site-packages (from nltk>=3.1->textblob) (2023.10.3)\n",
      "Requirement already satisfied: six>=1.5 in c:\\users\\arpit\\appdata\\roaming\\python\\python311\\site-packages (from python-dateutil>=2.8.1->pandas) (1.16.0)\n"
     ]
    }
   ],
   "source": [
    "!pip install textblob requests beautifulsoup4 python-dotenv pandas tqdm termcolor"
   ]
  },
  {
   "cell_type": "markdown",
   "metadata": {},
   "source": [
    "### Importing the required libraries"
   ]
  },
  {
   "cell_type": "code",
   "execution_count": 30,
   "metadata": {},
   "outputs": [
    {
     "data": {
      "text/plain": [
       "True"
      ]
     },
     "execution_count": 30,
     "metadata": {},
     "output_type": "execute_result"
    }
   ],
   "source": [
    "import os\n",
    "import bs4\n",
    "import requests\n",
    "import textblob\n",
    "import pandas as pd\n",
    "from tqdm import tqdm\n",
    "from dotenv import main\n",
    "from termcolor import colored\n",
    "\n",
    "main.load_dotenv()"
   ]
  },
  {
   "cell_type": "markdown",
   "metadata": {},
   "source": [
    "### CONSTANTS"
   ]
  },
  {
   "cell_type": "code",
   "execution_count": 31,
   "metadata": {},
   "outputs": [],
   "source": [
    "NEWS_API = os.getenv(\"NEWS_API\")\n",
    "\n",
    "API_URL = \"https://newsapi.org/v2/everything\"\n",
    "KEYWORD = \"el salvador, politics\"\n",
    "SEARCHIN = \"title,description,content\"\n",
    "LANGUAGE = \"\""
   ]
  },
  {
   "cell_type": "markdown",
   "metadata": {},
   "source": [
    "### Important functions"
   ]
  },
  {
   "cell_type": "code",
   "execution_count": 32,
   "metadata": {},
   "outputs": [],
   "source": [
    "def fetch_urls() -> list:\n",
    "    \"\"\"\n",
    "    Fetches news articles from the News API\n",
    "    \"\"\"\n",
    "\n",
    "    params = {\n",
    "    'q': KEYWORD,\n",
    "    'apiKey': NEWS_API,\n",
    "    'keyword': KEYWORD,\n",
    "    'searchIn': SEARCHIN,\n",
    "    'language': LANGUAGE,\n",
    "    }\n",
    "\n",
    "    response = requests.get(API_URL, params=params).json()\n",
    "    urls = [article[\"url\"] for article in response['articles']]\n",
    "    \n",
    "    return urls\n",
    "    \n",
    "def scrape_data(url: str) -> str:\n",
    "    \"\"\"\n",
    "    Scrapes the text data from the given URL\n",
    "    \"\"\"\n",
    "    \n",
    "    try:\n",
    "        response = requests.get(url)\n",
    "        soup = bs4.BeautifulSoup(response.text, \"html.parser\")\n",
    "\n",
    "        text_data = soup.get_text()\n",
    "\n",
    "        text_data = text_data.replace(\"\\n\", \" \")    \n",
    "        text_data = text_data.replace(\"\\t\", \" \")\n",
    "        text_data = text_data.replace(\"\\r\", \" \")\n",
    "        \n",
    "        return text_data\n",
    "    \n",
    "    except Exception as e:\n",
    "        return None\n",
    "\n",
    "def analyze_text(text: str) -> tuple:\n",
    "    \"\"\"\n",
    "    Analyzes the sentiment of the given text\n",
    "    \"\"\"\n",
    "    \n",
    "    blob = textblob.TextBlob(text)\n",
    "    polarity_str = blob.sentiment.polarity\n",
    "    polarity_val = polarity_str\n",
    "    nouns = str(\" | \".join(list(blob.noun_phrases)))\n",
    "    \n",
    "\n",
    "    if polarity_str > 0:\n",
    "        polarity_str = \"Positive\"\n",
    "    elif polarity_str < 0:\n",
    "        polarity_str = \"Negative\" \n",
    "    else:\n",
    "        polarity_str = \"Neutral\"\n",
    "        \n",
    "    return text, len(text), polarity_str, round(blob.sentiment.subjectivity, 4), round(polarity_val, 4)"
   ]
  },
  {
   "cell_type": "code",
   "execution_count": 33,
   "metadata": {},
   "outputs": [
    {
     "name": "stderr",
     "output_type": "stream",
     "text": [
      "  3%|▎         | 1/34 [00:12<06:51, 12.46s/it]"
     ]
    },
    {
     "name": "stdout",
     "output_type": "stream",
     "text": [
      "\u001b[32msuccess: https://mattlakeman.org/2024/03/30/notes-on-el-salvador/\u001b[0m\n"
     ]
    },
    {
     "name": "stderr",
     "output_type": "stream",
     "text": [
      "  9%|▉         | 3/34 [00:14<01:46,  3.45s/it]"
     ]
    },
    {
     "name": "stdout",
     "output_type": "stream",
     "text": [
      "\u001b[32msuccess: https://reason.com/2024/04/09/milei-sets-aside-dollarization-plan-due-to-politics/\u001b[0m\n"
     ]
    },
    {
     "name": "stderr",
     "output_type": "stream",
     "text": [
      " 12%|█▏        | 4/34 [00:14<01:10,  2.35s/it]"
     ]
    },
    {
     "name": "stdout",
     "output_type": "stream",
     "text": [
      "\u001b[32msuccess: https://www.thenation.com/article/world/jonathan-blitzer-immigration-policy/\u001b[0m\n"
     ]
    },
    {
     "name": "stderr",
     "output_type": "stream",
     "text": [
      " 15%|█▍        | 5/34 [00:15<00:52,  1.80s/it]"
     ]
    },
    {
     "name": "stdout",
     "output_type": "stream",
     "text": [
      "\u001b[32msuccess: https://www.nybooks.com/online/2024/04/07/where-next-for-mexico/\u001b[0m\n"
     ]
    },
    {
     "name": "stderr",
     "output_type": "stream",
     "text": [
      " 18%|█▊        | 6/34 [00:16<00:46,  1.66s/it]"
     ]
    },
    {
     "name": "stdout",
     "output_type": "stream",
     "text": [
      "\u001b[32msuccess: https://www.cbsnews.com/baltimore/news/baltimore-key-bridge-collapse-salvaging-port-of-baltimore-reopen/\u001b[0m\n"
     ]
    },
    {
     "name": "stderr",
     "output_type": "stream",
     "text": [
      " 21%|██        | 7/34 [00:18<00:40,  1.52s/it]"
     ]
    },
    {
     "name": "stdout",
     "output_type": "stream",
     "text": [
      "\u001b[32msuccess: https://ambcrypto.com/?p=379888\u001b[0m\n"
     ]
    },
    {
     "name": "stderr",
     "output_type": "stream",
     "text": [
      " 24%|██▎       | 8/34 [00:18<00:31,  1.21s/it]"
     ]
    },
    {
     "name": "stdout",
     "output_type": "stream",
     "text": [
      "\u001b[32msuccess: https://www.rawstory.com/two-bodies-recovered-from-submerged-truck-in-baltimore-bridge-collapse/\u001b[0m\n"
     ]
    },
    {
     "name": "stderr",
     "output_type": "stream",
     "text": [
      " 26%|██▋       | 9/34 [00:20<00:33,  1.33s/it]"
     ]
    },
    {
     "name": "stdout",
     "output_type": "stream",
     "text": [
      "\u001b[32msuccess: https://www.naturalnews.com/2024-03-28-michigan-state-pays-residents-monthly-house-illegals.html\u001b[0m\n"
     ]
    },
    {
     "name": "stderr",
     "output_type": "stream",
     "text": [
      " 29%|██▉       | 10/34 [00:21<00:34,  1.42s/it]"
     ]
    },
    {
     "name": "stdout",
     "output_type": "stream",
     "text": [
      "\u001b[32msuccess: https://www.cbsnews.com/baltimore/news/francis-scott-key-bridge-collapse-baltimore-victim-search/\u001b[0m\n"
     ]
    },
    {
     "name": "stderr",
     "output_type": "stream",
     "text": [
      " 32%|███▏      | 11/34 [00:23<00:35,  1.53s/it]"
     ]
    },
    {
     "name": "stdout",
     "output_type": "stream",
     "text": [
      "\u001b[32msuccess: https://www.cbsnews.com/baltimore/news/baltimore-key-bridge-port-collapse-search-victims-debris-removal/\u001b[0m\n"
     ]
    },
    {
     "name": "stderr",
     "output_type": "stream",
     "text": [
      " 38%|███▊      | 13/34 [00:27<00:35,  1.70s/it]"
     ]
    },
    {
     "name": "stdout",
     "output_type": "stream",
     "text": [
      "\u001b[32msuccess: https://www.coindesk.com/consensus-magazine/2024/04/01/12-future-bitcoin-scenarios-from-bullish-to-bearish/\u001b[0m\n"
     ]
    },
    {
     "name": "stderr",
     "output_type": "stream",
     "text": [
      " 41%|████      | 14/34 [00:28<00:33,  1.69s/it]"
     ]
    },
    {
     "name": "stdout",
     "output_type": "stream",
     "text": [
      "\u001b[32msuccess: https://www.globalresearch.ca/imperial-fruit-bananas-costs-climate-change/5853577\u001b[0m\n"
     ]
    },
    {
     "name": "stderr",
     "output_type": "stream",
     "text": [
      " 50%|█████     | 17/34 [00:33<00:25,  1.48s/it]"
     ]
    },
    {
     "name": "stdout",
     "output_type": "stream",
     "text": [
      "\u001b[32msuccess: https://reason.com/2024/03/27/is-javier-milei-making-argentina-great-again/\u001b[0m\n"
     ]
    },
    {
     "name": "stderr",
     "output_type": "stream",
     "text": [
      " 53%|█████▎    | 18/34 [00:34<00:24,  1.55s/it]"
     ]
    },
    {
     "name": "stdout",
     "output_type": "stream",
     "text": [
      "\u001b[32msuccess: https://freerepublic.com/focus/f-news/4230278/posts\u001b[0m\n"
     ]
    },
    {
     "name": "stderr",
     "output_type": "stream",
     "text": [
      " 59%|█████▉    | 20/34 [00:36<00:17,  1.22s/it]"
     ]
    },
    {
     "name": "stdout",
     "output_type": "stream",
     "text": [
      "\u001b[32msuccess: https://www.americanthinker.com/blog/2024/04/giving_context_and_reality_to_the_phrase_african_american.html\u001b[0m\n"
     ]
    },
    {
     "name": "stderr",
     "output_type": "stream",
     "text": [
      " 62%|██████▏   | 21/34 [00:37<00:14,  1.15s/it]"
     ]
    },
    {
     "name": "stdout",
     "output_type": "stream",
     "text": [
      "\u001b[31mfailed: https://removed.com\u001b[0m\n"
     ]
    },
    {
     "name": "stderr",
     "output_type": "stream",
     "text": [
      " 65%|██████▍   | 22/34 [00:42<00:25,  2.12s/it]"
     ]
    },
    {
     "name": "stdout",
     "output_type": "stream",
     "text": [
      "\u001b[32msuccess: https://www.globalresearch.ca/the-war-on-yugoslavia-25-years-later-natos-blueprint-for-the-conflicts-of-the-twenty-first-century/5852815\u001b[0m\n"
     ]
    },
    {
     "name": "stderr",
     "output_type": "stream",
     "text": [
      " 68%|██████▊   | 23/34 [00:43<00:21,  1.99s/it]"
     ]
    },
    {
     "name": "stdout",
     "output_type": "stream",
     "text": [
      "\u001b[32msuccess: https://aquariumdrunkard.com/2024/03/19/late-cold-war-style-in-songwriting-1978-1984/\u001b[0m\n"
     ]
    },
    {
     "name": "stderr",
     "output_type": "stream",
     "text": [
      " 74%|███████▎  | 25/34 [00:46<00:16,  1.79s/it]"
     ]
    },
    {
     "name": "stdout",
     "output_type": "stream",
     "text": [
      "\u001b[32msuccess: https://freerepublic.com/focus/f-news/4230080/posts\u001b[0m\n"
     ]
    },
    {
     "name": "stderr",
     "output_type": "stream",
     "text": [
      " 76%|███████▋  | 26/34 [00:57<00:35,  4.44s/it]"
     ]
    },
    {
     "name": "stdout",
     "output_type": "stream",
     "text": [
      "\u001b[32msuccess: https://www.washingtonpost.com/politics/2024/04/08/trump-immigration-rhetoric/\u001b[0m\n"
     ]
    },
    {
     "name": "stderr",
     "output_type": "stream",
     "text": [
      " 82%|████████▏ | 28/34 [00:58<00:14,  2.43s/it]"
     ]
    },
    {
     "name": "stdout",
     "output_type": "stream",
     "text": [
      "\u001b[32msuccess: https://www.americanthinker.com/blog/2024/04/biden_s_open_border_policy_is_compromising_our_national_security.html\u001b[0m\n"
     ]
    },
    {
     "name": "stderr",
     "output_type": "stream",
     "text": [
      " 85%|████████▌ | 29/34 [00:59<00:10,  2.12s/it]"
     ]
    },
    {
     "name": "stdout",
     "output_type": "stream",
     "text": [
      "\u001b[32msuccess: https://mondoweiss.net/2024/04/dr-ghassan-abu-sittah-tomorrow-is-a-palestinian-day/\u001b[0m\n"
     ]
    },
    {
     "name": "stderr",
     "output_type": "stream",
     "text": [
      " 88%|████████▊ | 30/34 [01:09<00:17,  4.32s/it]"
     ]
    },
    {
     "name": "stdout",
     "output_type": "stream",
     "text": [
      "\u001b[32msuccess: https://www.washingtonpost.com/opinions/2024/04/05/trump-religion-secularism-authoritarian-populism/\u001b[0m\n"
     ]
    },
    {
     "name": "stderr",
     "output_type": "stream",
     "text": [
      " 91%|█████████ | 31/34 [01:11<00:10,  3.55s/it]"
     ]
    },
    {
     "name": "stdout",
     "output_type": "stream",
     "text": [
      "\u001b[32msuccess: https://www.idolator.com/7920170/the-oldest-civilizations-in-history\u001b[0m\n"
     ]
    },
    {
     "name": "stderr",
     "output_type": "stream",
     "text": [
      " 94%|█████████▍| 32/34 [01:12<00:05,  2.96s/it]"
     ]
    },
    {
     "name": "stdout",
     "output_type": "stream",
     "text": [
      "\u001b[32msuccess: https://www.foxnews.com/politics/maryland-dem-forget-border-claims-gop-talking-point-call-legal-immigration\u001b[0m\n"
     ]
    },
    {
     "name": "stderr",
     "output_type": "stream",
     "text": [
      " 97%|█████████▋| 33/34 [01:14<00:02,  2.51s/it]"
     ]
    },
    {
     "name": "stdout",
     "output_type": "stream",
     "text": [
      "\u001b[32msuccess: https://www.breitbart.com/politics/2024/03/27/migration-advocates-use-bridge-deaths-to-push-for-more-migration/\u001b[0m\n"
     ]
    },
    {
     "name": "stderr",
     "output_type": "stream",
     "text": [
      "100%|██████████| 34/34 [01:17<00:00,  2.27s/it]"
     ]
    },
    {
     "name": "stdout",
     "output_type": "stream",
     "text": [
      "\u001b[32msuccess: https://reason.com/podcast/2024/04/03/why-palantir-cofounder-joe-lonsdale-left-california-for-texas/\u001b[0m\n",
      "\u001b[32mList generated successfully\u001b[0m\n"
     ]
    },
    {
     "name": "stderr",
     "output_type": "stream",
     "text": [
      "\n"
     ]
    }
   ],
   "source": [
    "urls = fetch_urls()\n",
    "\n",
    "extracted_data = []\n",
    "for url in tqdm(urls):\n",
    "    try:\n",
    "        text_data = scrape_data(url)\n",
    "        \n",
    "        if text_data is not None:\n",
    "            text_analysis = analyze_text(text_data)\n",
    "            \n",
    "            if text_analysis[3] or text_analysis[4] != 0:\n",
    "                extracted_data.append([url, *text_analysis])\n",
    "                print(colored(f\"success: {url}\", \"green\"))\n",
    "        else:\n",
    "            print(colored(f\"failed: {url}\", \"red\"))\n",
    "            continue\n",
    "        \n",
    "    except Exception as e:\n",
    "        print(colored(f\"failed: {e}\", \"red\"))\n",
    "        continue\n",
    "    \n",
    "print(colored(\"List generated successfully\", \"green\"))"
   ]
  },
  {
   "cell_type": "code",
   "execution_count": 34,
   "metadata": {},
   "outputs": [
    {
     "data": {
      "text/html": [
       "<div>\n",
       "<style scoped>\n",
       "    .dataframe tbody tr th:only-of-type {\n",
       "        vertical-align: middle;\n",
       "    }\n",
       "\n",
       "    .dataframe tbody tr th {\n",
       "        vertical-align: top;\n",
       "    }\n",
       "\n",
       "    .dataframe thead th {\n",
       "        text-align: right;\n",
       "    }\n",
       "</style>\n",
       "<table border=\"1\" class=\"dataframe\">\n",
       "  <thead>\n",
       "    <tr style=\"text-align: right;\">\n",
       "      <th></th>\n",
       "      <th>url</th>\n",
       "      <th>content</th>\n",
       "      <th>length</th>\n",
       "      <th>sentiment</th>\n",
       "      <th>subjectivity</th>\n",
       "      <th>polarity</th>\n",
       "    </tr>\n",
       "  </thead>\n",
       "  <tbody>\n",
       "    <tr>\n",
       "      <th>0</th>\n",
       "      <td>https://mattlakeman.org/2024/03/30/notes-on-el...</td>\n",
       "      <td>Notes on El Salvador – Matt Lakeman    ...</td>\n",
       "      <td>191071</td>\n",
       "      <td>Positive</td>\n",
       "      <td>0.4459</td>\n",
       "      <td>0.0773</td>\n",
       "    </tr>\n",
       "    <tr>\n",
       "      <th>1</th>\n",
       "      <td>https://reason.com/2024/04/09/milei-sets-aside...</td>\n",
       "      <td>Milei Sets Aside Dollariz...</td>\n",
       "      <td>6619</td>\n",
       "      <td>Positive</td>\n",
       "      <td>0.3766</td>\n",
       "      <td>0.0907</td>\n",
       "    </tr>\n",
       "    <tr>\n",
       "      <th>2</th>\n",
       "      <td>https://www.thenation.com/article/world/jonath...</td>\n",
       "      <td>The Brutal Cycle of US...</td>\n",
       "      <td>21777</td>\n",
       "      <td>Positive</td>\n",
       "      <td>0.4170</td>\n",
       "      <td>0.0380</td>\n",
       "    </tr>\n",
       "    <tr>\n",
       "      <th>3</th>\n",
       "      <td>https://www.nybooks.com/online/2024/04/07/wher...</td>\n",
       "      <td>Where Next for Mexico? | ...</td>\n",
       "      <td>37448</td>\n",
       "      <td>Positive</td>\n",
       "      <td>0.3865</td>\n",
       "      <td>0.0621</td>\n",
       "    </tr>\n",
       "    <tr>\n",
       "      <th>4</th>\n",
       "      <td>https://www.cbsnews.com/baltimore/news/baltimo...</td>\n",
       "      <td>Timeline to reopen Port of Baltimore unc...</td>\n",
       "      <td>9599</td>\n",
       "      <td>Positive</td>\n",
       "      <td>0.5049</td>\n",
       "      <td>0.0675</td>\n",
       "    </tr>\n",
       "    <tr>\n",
       "      <th>5</th>\n",
       "      <td>https://ambcrypto.com/?p=379888</td>\n",
       "      <td>'Just because they embraced Bi...</td>\n",
       "      <td>7148</td>\n",
       "      <td>Positive</td>\n",
       "      <td>0.4167</td>\n",
       "      <td>0.1158</td>\n",
       "    </tr>\n",
       "    <tr>\n",
       "      <th>6</th>\n",
       "      <td>https://www.rawstory.com/two-bodies-recovered-...</td>\n",
       "      <td>Two bodies recovered from submerged truck in B...</td>\n",
       "      <td>7576</td>\n",
       "      <td>Positive</td>\n",
       "      <td>0.3964</td>\n",
       "      <td>0.0187</td>\n",
       "    </tr>\n",
       "    <tr>\n",
       "      <th>7</th>\n",
       "      <td>https://www.naturalnews.com/2024-03-28-michiga...</td>\n",
       "      <td>Great Replacement Theory is already a real...</td>\n",
       "      <td>12263</td>\n",
       "      <td>Positive</td>\n",
       "      <td>0.4382</td>\n",
       "      <td>0.1347</td>\n",
       "    </tr>\n",
       "    <tr>\n",
       "      <th>8</th>\n",
       "      <td>https://www.cbsnews.com/baltimore/news/francis...</td>\n",
       "      <td>Two bodies recovered from vehicle underw...</td>\n",
       "      <td>10380</td>\n",
       "      <td>Positive</td>\n",
       "      <td>0.4835</td>\n",
       "      <td>0.0484</td>\n",
       "    </tr>\n",
       "    <tr>\n",
       "      <th>9</th>\n",
       "      <td>https://www.cbsnews.com/baltimore/news/baltimo...</td>\n",
       "      <td>Search efforts paused after 2 bodies fou...</td>\n",
       "      <td>10953</td>\n",
       "      <td>Positive</td>\n",
       "      <td>0.4577</td>\n",
       "      <td>0.0789</td>\n",
       "    </tr>\n",
       "    <tr>\n",
       "      <th>10</th>\n",
       "      <td>https://www.coindesk.com/consensus-magazine/20...</td>\n",
       "      <td>12 Future Bitcoin Scenarios: From Bullish to B...</td>\n",
       "      <td>21781</td>\n",
       "      <td>Positive</td>\n",
       "      <td>0.4539</td>\n",
       "      <td>0.0970</td>\n",
       "    </tr>\n",
       "    <tr>\n",
       "      <th>11</th>\n",
       "      <td>https://www.globalresearch.ca/imperial-fruit-b...</td>\n",
       "      <td>Imperial Fruit: Bananas, Costs and Climate ...</td>\n",
       "      <td>12306</td>\n",
       "      <td>Positive</td>\n",
       "      <td>0.4004</td>\n",
       "      <td>0.0720</td>\n",
       "    </tr>\n",
       "    <tr>\n",
       "      <th>12</th>\n",
       "      <td>https://reason.com/2024/03/27/is-javier-milei-...</td>\n",
       "      <td>Is Javier Milei Making Arge...</td>\n",
       "      <td>23118</td>\n",
       "      <td>Positive</td>\n",
       "      <td>0.4072</td>\n",
       "      <td>0.0773</td>\n",
       "    </tr>\n",
       "    <tr>\n",
       "      <th>13</th>\n",
       "      <td>https://freerepublic.com/focus/f-news/4230278/...</td>\n",
       "      <td>Milei Sets Aside Dollarization Plan Due to...</td>\n",
       "      <td>6079</td>\n",
       "      <td>Positive</td>\n",
       "      <td>0.4274</td>\n",
       "      <td>0.0819</td>\n",
       "    </tr>\n",
       "    <tr>\n",
       "      <th>14</th>\n",
       "      <td>https://www.americanthinker.com/blog/2024/04/g...</td>\n",
       "      <td>Giving context (and reality) to the phrase...</td>\n",
       "      <td>5085</td>\n",
       "      <td>Positive</td>\n",
       "      <td>0.2769</td>\n",
       "      <td>0.0238</td>\n",
       "    </tr>\n",
       "    <tr>\n",
       "      <th>15</th>\n",
       "      <td>https://www.globalresearch.ca/the-war-on-yugos...</td>\n",
       "      <td>The War on Yugoslavia 25 Years Later: NATO’...</td>\n",
       "      <td>45548</td>\n",
       "      <td>Positive</td>\n",
       "      <td>0.4051</td>\n",
       "      <td>0.0320</td>\n",
       "    </tr>\n",
       "    <tr>\n",
       "      <th>16</th>\n",
       "      <td>https://aquariumdrunkard.com/2024/03/19/late-c...</td>\n",
       "      <td>Late Cold War...</td>\n",
       "      <td>1497</td>\n",
       "      <td>Negative</td>\n",
       "      <td>0.5614</td>\n",
       "      <td>-0.1216</td>\n",
       "    </tr>\n",
       "    <tr>\n",
       "      <th>17</th>\n",
       "      <td>https://freerepublic.com/focus/f-news/4230080/...</td>\n",
       "      <td>Food Stamps for Immigrants: What Benefits ...</td>\n",
       "      <td>14450</td>\n",
       "      <td>Positive</td>\n",
       "      <td>0.4348</td>\n",
       "      <td>0.0516</td>\n",
       "    </tr>\n",
       "    <tr>\n",
       "      <th>18</th>\n",
       "      <td>https://www.washingtonpost.com/politics/2024/0...</td>\n",
       "      <td>Trump revives his wish that immigrants came fr...</td>\n",
       "      <td>8263</td>\n",
       "      <td>Positive</td>\n",
       "      <td>0.4313</td>\n",
       "      <td>0.1414</td>\n",
       "    </tr>\n",
       "    <tr>\n",
       "      <th>19</th>\n",
       "      <td>https://www.americanthinker.com/blog/2024/04/b...</td>\n",
       "      <td>Bidenâs open border policy is compromisi...</td>\n",
       "      <td>7868</td>\n",
       "      <td>Negative</td>\n",
       "      <td>0.4343</td>\n",
       "      <td>-0.0051</td>\n",
       "    </tr>\n",
       "    <tr>\n",
       "      <th>20</th>\n",
       "      <td>https://mondoweiss.net/2024/04/dr-ghassan-abu-...</td>\n",
       "      <td>Dr. Ghassan Abu-Sittah: ‘Tomorrow is a ...</td>\n",
       "      <td>18048</td>\n",
       "      <td>Positive</td>\n",
       "      <td>0.3831</td>\n",
       "      <td>0.0660</td>\n",
       "    </tr>\n",
       "    <tr>\n",
       "      <th>21</th>\n",
       "      <td>https://www.washingtonpost.com/opinions/2024/0...</td>\n",
       "      <td>Opinion | As religion fades in America, Trumpi...</td>\n",
       "      <td>6851</td>\n",
       "      <td>Positive</td>\n",
       "      <td>0.4243</td>\n",
       "      <td>0.1370</td>\n",
       "    </tr>\n",
       "    <tr>\n",
       "      <th>22</th>\n",
       "      <td>https://www.idolator.com/7920170/the-oldest-ci...</td>\n",
       "      <td>The Oldest Civilizations In Human History ...</td>\n",
       "      <td>25280</td>\n",
       "      <td>Positive</td>\n",
       "      <td>0.3751</td>\n",
       "      <td>0.1415</td>\n",
       "    </tr>\n",
       "    <tr>\n",
       "      <th>23</th>\n",
       "      <td>https://www.foxnews.com/politics/maryland-dem-...</td>\n",
       "      <td>Maryland Dem says 'forget the border,' clai...</td>\n",
       "      <td>14447</td>\n",
       "      <td>Positive</td>\n",
       "      <td>0.3355</td>\n",
       "      <td>0.1085</td>\n",
       "    </tr>\n",
       "    <tr>\n",
       "      <th>24</th>\n",
       "      <td>https://www.breitbart.com/politics/2024/03/27/...</td>\n",
       "      <td>Migr...</td>\n",
       "      <td>16219</td>\n",
       "      <td>Positive</td>\n",
       "      <td>0.4228</td>\n",
       "      <td>0.0544</td>\n",
       "    </tr>\n",
       "    <tr>\n",
       "      <th>25</th>\n",
       "      <td>https://reason.com/podcast/2024/04/03/why-pala...</td>\n",
       "      <td>Why Palantir Cofound...</td>\n",
       "      <td>55663</td>\n",
       "      <td>Positive</td>\n",
       "      <td>0.4844</td>\n",
       "      <td>0.0922</td>\n",
       "    </tr>\n",
       "  </tbody>\n",
       "</table>\n",
       "</div>"
      ],
      "text/plain": [
       "                                                  url  \\\n",
       "0   https://mattlakeman.org/2024/03/30/notes-on-el...   \n",
       "1   https://reason.com/2024/04/09/milei-sets-aside...   \n",
       "2   https://www.thenation.com/article/world/jonath...   \n",
       "3   https://www.nybooks.com/online/2024/04/07/wher...   \n",
       "4   https://www.cbsnews.com/baltimore/news/baltimo...   \n",
       "5                     https://ambcrypto.com/?p=379888   \n",
       "6   https://www.rawstory.com/two-bodies-recovered-...   \n",
       "7   https://www.naturalnews.com/2024-03-28-michiga...   \n",
       "8   https://www.cbsnews.com/baltimore/news/francis...   \n",
       "9   https://www.cbsnews.com/baltimore/news/baltimo...   \n",
       "10  https://www.coindesk.com/consensus-magazine/20...   \n",
       "11  https://www.globalresearch.ca/imperial-fruit-b...   \n",
       "12  https://reason.com/2024/03/27/is-javier-milei-...   \n",
       "13  https://freerepublic.com/focus/f-news/4230278/...   \n",
       "14  https://www.americanthinker.com/blog/2024/04/g...   \n",
       "15  https://www.globalresearch.ca/the-war-on-yugos...   \n",
       "16  https://aquariumdrunkard.com/2024/03/19/late-c...   \n",
       "17  https://freerepublic.com/focus/f-news/4230080/...   \n",
       "18  https://www.washingtonpost.com/politics/2024/0...   \n",
       "19  https://www.americanthinker.com/blog/2024/04/b...   \n",
       "20  https://mondoweiss.net/2024/04/dr-ghassan-abu-...   \n",
       "21  https://www.washingtonpost.com/opinions/2024/0...   \n",
       "22  https://www.idolator.com/7920170/the-oldest-ci...   \n",
       "23  https://www.foxnews.com/politics/maryland-dem-...   \n",
       "24  https://www.breitbart.com/politics/2024/03/27/...   \n",
       "25  https://reason.com/podcast/2024/04/03/why-pala...   \n",
       "\n",
       "                                              content  length sentiment  \\\n",
       "0          Notes on El Salvador – Matt Lakeman    ...  191071  Positive   \n",
       "1                        Milei Sets Aside Dollariz...    6619  Positive   \n",
       "2                           The Brutal Cycle of US...   21777  Positive   \n",
       "3                        Where Next for Mexico? | ...   37448  Positive   \n",
       "4         Timeline to reopen Port of Baltimore unc...    9599  Positive   \n",
       "5                   'Just because they embraced Bi...    7148  Positive   \n",
       "6   Two bodies recovered from submerged truck in B...    7576  Positive   \n",
       "7       Great Replacement Theory is already a real...   12263  Positive   \n",
       "8         Two bodies recovered from vehicle underw...   10380  Positive   \n",
       "9         Search efforts paused after 2 bodies fou...   10953  Positive   \n",
       "10  12 Future Bitcoin Scenarios: From Bullish to B...   21781  Positive   \n",
       "11     Imperial Fruit: Bananas, Costs and Climate ...   12306  Positive   \n",
       "12                     Is Javier Milei Making Arge...   23118  Positive   \n",
       "13      Milei Sets Aside Dollarization Plan Due to...    6079  Positive   \n",
       "14      Giving context (and reality) to the phrase...    5085  Positive   \n",
       "15     The War on Yugoslavia 25 Years Later: NATO’...   45548  Positive   \n",
       "16                                   Late Cold War...    1497  Negative   \n",
       "17      Food Stamps for Immigrants: What Benefits ...   14450  Positive   \n",
       "18  Trump revives his wish that immigrants came fr...    8263  Positive   \n",
       "19      Bidenâs open border policy is compromisi...    7868  Negative   \n",
       "20         Dr. Ghassan Abu-Sittah: ‘Tomorrow is a ...   18048  Positive   \n",
       "21  Opinion | As religion fades in America, Trumpi...    6851  Positive   \n",
       "22      The Oldest Civilizations In Human History ...   25280  Positive   \n",
       "23     Maryland Dem says 'forget the border,' clai...   14447  Positive   \n",
       "24                                            Migr...   16219  Positive   \n",
       "25                            Why Palantir Cofound...   55663  Positive   \n",
       "\n",
       "    subjectivity  polarity  \n",
       "0         0.4459    0.0773  \n",
       "1         0.3766    0.0907  \n",
       "2         0.4170    0.0380  \n",
       "3         0.3865    0.0621  \n",
       "4         0.5049    0.0675  \n",
       "5         0.4167    0.1158  \n",
       "6         0.3964    0.0187  \n",
       "7         0.4382    0.1347  \n",
       "8         0.4835    0.0484  \n",
       "9         0.4577    0.0789  \n",
       "10        0.4539    0.0970  \n",
       "11        0.4004    0.0720  \n",
       "12        0.4072    0.0773  \n",
       "13        0.4274    0.0819  \n",
       "14        0.2769    0.0238  \n",
       "15        0.4051    0.0320  \n",
       "16        0.5614   -0.1216  \n",
       "17        0.4348    0.0516  \n",
       "18        0.4313    0.1414  \n",
       "19        0.4343   -0.0051  \n",
       "20        0.3831    0.0660  \n",
       "21        0.4243    0.1370  \n",
       "22        0.3751    0.1415  \n",
       "23        0.3355    0.1085  \n",
       "24        0.4228    0.0544  \n",
       "25        0.4844    0.0922  "
      ]
     },
     "execution_count": 34,
     "metadata": {},
     "output_type": "execute_result"
    }
   ],
   "source": [
    "columns = [\"url\", \"content\", \"length\", \"sentiment\", \"subjectivity\", \"polarity\"]\n",
    "df  = pd.DataFrame(extracted_data, columns=columns)\n",
    "df"
   ]
  }
 ],
 "metadata": {
  "kernelspec": {
   "display_name": "arpit-test",
   "language": "python",
   "name": "python3"
  },
  "language_info": {
   "codemirror_mode": {
    "name": "ipython",
    "version": 3
   },
   "file_extension": ".py",
   "mimetype": "text/x-python",
   "name": "python",
   "nbconvert_exporter": "python",
   "pygments_lexer": "ipython3",
   "version": "3.11.5"
  }
 },
 "nbformat": 4,
 "nbformat_minor": 2
}
