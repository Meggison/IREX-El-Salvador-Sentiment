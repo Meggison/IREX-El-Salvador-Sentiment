{
 "cells": [
  {
   "cell_type": "code",
   "execution_count": 3,
   "metadata": {},
   "outputs": [],
   "source": [
    "# uncomment if needed\n",
    "\n",
    "# !pip install spacy preprocessor twint nltk\n",
    "# !python -m spacy download es_core_news_md\n"
   ]
  },
  {
   "cell_type": "code",
   "execution_count": 4,
   "metadata": {},
   "outputs": [],
   "source": [
    "import spacy\n",
    "import preprocessor as p\n",
    "import re\n",
    "from nltk.corpus import stopwords\n",
    "import nltk\n",
    "import pandas as pd\n",
    "from sklearn.feature_extraction.text import CountVectorizer\n",
    "from sklearn.decomposition import LatentDirichletAllocation"
   ]
  },
  {
   "cell_type": "code",
   "execution_count": 5,
   "metadata": {},
   "outputs": [
    {
     "name": "stderr",
     "output_type": "stream",
     "text": [
      "[nltk_data] Downloading package stopwords to\n",
      "[nltk_data]     C:\\Users\\ADMIN\\AppData\\Roaming\\nltk_data...\n",
      "[nltk_data]   Package stopwords is already up-to-date!\n"
     ]
    }
   ],
   "source": [
    "# Download Spanish stopwords from nltk\n",
    "nltk.download('stopwords')\n",
    "\n",
    "# Load Spanish language model in spaCy\n",
    "nlp = spacy.load('es_core_news_md')\n",
    "\n",
    "# Load Spanish stopwords\n",
    "stop_words = set(stopwords.words('spanish'))"
   ]
  },
  {
   "cell_type": "code",
   "execution_count": 6,
   "metadata": {},
   "outputs": [],
   "source": [
    "# add some custom stop words based on LDA results - keep adding \n",
    "custom_stopwords = set([\n",
    "    'ser', 'haber', 'hacer', 'tener', 'poder', 'ir', 'q', 'si', 'solo', 'saber', 'decir',\n",
    "    'dar', 'querer', 'ver', 'así', 'sos', 'maje', 'dejar', 'si', 'solo', 'si', 'op'\n",
    "])\n",
    "stop_words.update(custom_stopwords)"
   ]
  },
  {
   "cell_type": "code",
   "execution_count": 7,
   "metadata": {},
   "outputs": [],
   "source": [
    "def preprocess_text(text):      \n",
    "    # Tokenize and lemmatize using spaCy\n",
    "    doc = nlp(text)\n",
    "    tokens = [token.lemma_ for token in doc if token.lemma_ not in stop_words and not token.is_punct and len(token.lemma_) > 2]\n",
    "    return tokens"
   ]
  },
  {
   "cell_type": "code",
   "execution_count": 8,
   "metadata": {},
   "outputs": [],
   "source": [
    "df = pd.read_csv('merged_file.csv')"
   ]
  },
  {
   "cell_type": "code",
   "execution_count": 9,
   "metadata": {},
   "outputs": [],
   "source": [
    "# create new column for tokenized comments\n",
    "df['cmt_processed_text'] = df['comment_processed_text'].apply(preprocess_text)"
   ]
  },
  {
   "cell_type": "code",
   "execution_count": 10,
   "metadata": {},
   "outputs": [
    {
     "name": "stderr",
     "output_type": "stream",
     "text": [
      "c:\\Users\\ADMIN\\AppData\\Local\\Programs\\Python\\Python39\\lib\\site-packages\\sklearn\\feature_extraction\\text.py:525: UserWarning: The parameter 'token_pattern' will not be used since 'tokenizer' is not None'\n",
      "  warnings.warn(\n"
     ]
    }
   ],
   "source": [
    "# Convert preprocessed text to document-term matrix\n",
    "vectorizer = CountVectorizer(tokenizer=lambda x: x, preprocessor=lambda x: x, min_df=5)  # Custom tokenizer to use our preprocessed tokens\n",
    "dtm = vectorizer.fit_transform(df['cmt_processed_text'])\n",
    "\n",
    "# Get feature names (vocabulary)\n",
    "terms = vectorizer.get_feature_names_out()"
   ]
  },
  {
   "cell_type": "code",
   "execution_count": 11,
   "metadata": {},
   "outputs": [],
   "source": [
    "# Initialize LDA model\n",
    "lda_model = LatentDirichletAllocation(n_components=5, random_state=42)  # Change n_components to the number of topics you want\n",
    "\n",
    "# Fit the model to the document-term matrix\n",
    "lda_model.fit(dtm)\n",
    "\n",
    "# Get the topics\n",
    "topics = lda_model.components_"
   ]
  },
  {
   "cell_type": "code",
   "execution_count": 12,
   "metadata": {},
   "outputs": [
    {
     "name": "stdout",
     "output_type": "stream",
     "text": [
      "Topic 1:\n",
      "['día', 'presidente', 'pueblo', 'bukele', 'gracias', 'bueno', 'cada', 'año', 'dios', 'hoy']\n",
      "Topic 2:\n",
      "['gobierno', 'deber', 'diputado', 'entender', 'creer', 'marciano', 'partido', 'ahora', 'quedar', 'arena']\n",
      "Topic 3:\n",
      "['pueblo', 'mas', 'salvador', 'poner', 'verdad', 'nunca', 'creer', 'deber', 'bien', 'pasar']\n",
      "Topic 4:\n",
      "['mismo', 'vos', 'gente', 'pobre', 'pandillero', 'país', 'loco', 'llorar', 'hablar', 'claudia']\n",
      "Topic 5:\n",
      "['trabajo', 'excelente', 'ministro', 'gracias', 'presidente', 'bien', 'buen', 'señor', 'seguir', 'mejor']\n"
     ]
    }
   ],
   "source": [
    "def print_topics(model, terms, n_top_words=10):\n",
    "    for idx, topic in enumerate(model.components_):\n",
    "        print(f\"Topic {idx+1}:\")\n",
    "        print([terms[i] for i in topic.argsort()[:-n_top_words - 1:-1]])\n",
    "\n",
    "# Print the top words for each topic\n",
    "print_topics(lda_model, terms)"
   ]
  }
 ],
 "metadata": {
  "kernelspec": {
   "display_name": "Python 3",
   "language": "python",
   "name": "python3"
  },
  "language_info": {
   "codemirror_mode": {
    "name": "ipython",
    "version": 3
   },
   "file_extension": ".py",
   "mimetype": "text/x-python",
   "name": "python",
   "nbconvert_exporter": "python",
   "pygments_lexer": "ipython3",
   "version": "3.9.10"
  }
 },
 "nbformat": 4,
 "nbformat_minor": 2
}
