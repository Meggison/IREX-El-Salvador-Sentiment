{
  "cells": [
    {
      "cell_type": "code",
      "execution_count": 1,
      "metadata": {},
      "outputs": [],
      "source": [
        "# ! pip install -U accelerate\n",
        "# ! pip install -U transformers"
      ]
    },
    {
      "cell_type": "code",
      "execution_count": 1,
      "metadata": {},
      "outputs": [],
      "source": [
        "# !pip3 install -U dagshub"
      ]
    },
    {
      "cell_type": "code",
      "execution_count": null,
      "metadata": {},
      "outputs": [],
      "source": [
        "import pandas as pd\n",
        "import dagshub\n",
        "\n",
        "from transformers import pipeline\n",
        "from transformers import BertTokenizer, BertForSequenceClassification\n",
        "\n",
        "model_name = 'finiteautomata/beto-sentiment-analysis'\n",
        "# model_name = 'pysentimiento/robertuito-sentiment-analysis'\n",
        "model = BertForSequenceClassification.from_pretrained(model_name, num_labels=3)\n",
        "\n",
        "tokenizer = BertTokenizer.from_pretrained(model_name)\n",
        "\n",
        "# Combine both model and tokenizer into a single classifier\n",
        "classifier = pipeline('sentiment-analysis', tokenizer=tokenizer, model=model)"
      ]
    },
    {
      "cell_type": "code",
      "execution_count": 6,
      "metadata": {},
      "outputs": [],
      "source": [
        "# # Get a boto3.client object\n",
        "# s3 = get_repo_bucket_client(\"Omdena/IREX-El-Salvador-Sentiment\")"
      ]
    },
    {
      "cell_type": "code",
      "execution_count": 7,
      "metadata": {},
      "outputs": [],
      "source": [
        "# # Upload file\n",
        "# s3.upload_file(\n",
        "#     Bucket=\"IREX-El-Salvador-Sentiment\",  # name of the repo\n",
        "#     Filename=\"sentiment_beto_sample_bukele_updated.csv\",  # local path of file to upload\n",
        "#     Key=\"sentiment_beto_sample_bukele_updated.csv\",  # remote path where to upload the file\n",
        "# )"
      ]
    },
    {
      "cell_type": "code",
      "execution_count": 8,
      "metadata": {
        "colab": {
          "base_uri": "https://localhost:8080/",
          "height": 85
        },
        "id": "5GR67ySpLN6D",
        "outputId": "f4c87157-6e5d-4dd7-d18b-630083808b4b"
      },
      "outputs": [],
      "source": [
        "# mount_path = dagshub.storage.mount('Omdena/IREX-El-Salvador-Sentiment')\n",
        "df = pd.read_csv('sentiment_beto_sample_bukele_updated.csv')"
      ]
    },
    {
      "cell_type": "code",
      "execution_count": 9,
      "metadata": {
        "colab": {
          "base_uri": "https://localhost:8080/",
          "height": 206
        },
        "id": "DR1tODhlI6Wr",
        "outputId": "48b46403-f682-47f6-d1f1-0f4f663374b0"
      },
      "outputs": [
        {
          "data": {
            "text/html": [
              "<div>\n",
              "<style scoped>\n",
              "    .dataframe tbody tr th:only-of-type {\n",
              "        vertical-align: middle;\n",
              "    }\n",
              "\n",
              "    .dataframe tbody tr th {\n",
              "        vertical-align: top;\n",
              "    }\n",
              "\n",
              "    .dataframe thead th {\n",
              "        text-align: right;\n",
              "    }\n",
              "</style>\n",
              "<table border=\"1\" class=\"dataframe\">\n",
              "  <thead>\n",
              "    <tr style=\"text-align: right;\">\n",
              "      <th></th>\n",
              "      <th>Unnamed: 0</th>\n",
              "      <th>Post Type</th>\n",
              "      <th>Profile Name</th>\n",
              "      <th>Date</th>\n",
              "      <th>Time</th>\n",
              "      <th>Likes</th>\n",
              "      <th>Text</th>\n",
              "      <th>AP</th>\n",
              "      <th>EC Revised</th>\n",
              "      <th>AP + JA Revised</th>\n",
              "      <th>English Text (Google Translate)</th>\n",
              "    </tr>\n",
              "  </thead>\n",
              "  <tbody>\n",
              "    <tr>\n",
              "      <th>0</th>\n",
              "      <td>0</td>\n",
              "      <td>Astronaut Post</td>\n",
              "      <td>Elizabeth Menjivar</td>\n",
              "      <td>2024-04-13</td>\n",
              "      <td>03:29:29</td>\n",
              "      <td>43</td>\n",
              "      <td>Dios lo bendiga por ser un gran ser humano</td>\n",
              "      <td>POS</td>\n",
              "      <td>POS</td>\n",
              "      <td>POS</td>\n",
              "      <td>God bless him for being a great human being.</td>\n",
              "    </tr>\n",
              "    <tr>\n",
              "      <th>1</th>\n",
              "      <td>1</td>\n",
              "      <td>Astronaut Post</td>\n",
              "      <td>Mila Mijango</td>\n",
              "      <td>2024-04-17</td>\n",
              "      <td>17:29:01</td>\n",
              "      <td>6</td>\n",
              "      <td>Me encanta la humanidad de nuestro astronauta,...</td>\n",
              "      <td>POS</td>\n",
              "      <td>POS</td>\n",
              "      <td>POS</td>\n",
              "      <td>I love the humanity of our astronaut, a man wi...</td>\n",
              "    </tr>\n",
              "    <tr>\n",
              "      <th>2</th>\n",
              "      <td>2</td>\n",
              "      <td>Astronaut Post</td>\n",
              "      <td>Any Rodríguez</td>\n",
              "      <td>2024-04-13</td>\n",
              "      <td>04:00:29</td>\n",
              "      <td>18</td>\n",
              "      <td>Dos grandes hombres haciendo historia. Gracias...</td>\n",
              "      <td>POS</td>\n",
              "      <td>POS</td>\n",
              "      <td>POS</td>\n",
              "      <td>Two great men making history. Thank you for al...</td>\n",
              "    </tr>\n",
              "    <tr>\n",
              "      <th>3</th>\n",
              "      <td>3</td>\n",
              "      <td>Astronaut Post</td>\n",
              "      <td>Sara Cespedes</td>\n",
              "      <td>2024-04-13</td>\n",
              "      <td>08:22:47</td>\n",
              "      <td>136</td>\n",
              "      <td>Nayib y Frank dos grandes ejemplo de umildad y...</td>\n",
              "      <td>POS</td>\n",
              "      <td>POS</td>\n",
              "      <td>POS</td>\n",
              "      <td>Nayib and Frank, two great examples of humilit...</td>\n",
              "    </tr>\n",
              "    <tr>\n",
              "      <th>4</th>\n",
              "      <td>4</td>\n",
              "      <td>Astronaut Post</td>\n",
              "      <td>Martha Morales</td>\n",
              "      <td>2024-04-13</td>\n",
              "      <td>03:13:56</td>\n",
              "      <td>70</td>\n",
              "      <td>A Colombia  le falta  un precidente  con este ...</td>\n",
              "      <td>NEU</td>\n",
              "      <td>POS</td>\n",
              "      <td>POS</td>\n",
              "      <td>Colombia lacks a precedent with this one, I am...</td>\n",
              "    </tr>\n",
              "  </tbody>\n",
              "</table>\n",
              "</div>"
            ],
            "text/plain": [
              "   Unnamed: 0       Post Type        Profile Name        Date      Time  \\\n",
              "0           0  Astronaut Post  Elizabeth Menjivar  2024-04-13  03:29:29   \n",
              "1           1  Astronaut Post        Mila Mijango  2024-04-17  17:29:01   \n",
              "2           2  Astronaut Post       Any Rodríguez  2024-04-13  04:00:29   \n",
              "3           3  Astronaut Post       Sara Cespedes  2024-04-13  08:22:47   \n",
              "4           4  Astronaut Post      Martha Morales  2024-04-13  03:13:56   \n",
              "\n",
              "   Likes                                               Text   AP EC Revised  \\\n",
              "0     43         Dios lo bendiga por ser un gran ser humano  POS        POS   \n",
              "1      6  Me encanta la humanidad de nuestro astronauta,...  POS        POS   \n",
              "2     18  Dos grandes hombres haciendo historia. Gracias...  POS        POS   \n",
              "3    136  Nayib y Frank dos grandes ejemplo de umildad y...  POS        POS   \n",
              "4     70  A Colombia  le falta  un precidente  con este ...  NEU        POS   \n",
              "\n",
              "  AP + JA Revised                    English Text (Google Translate)  \n",
              "0             POS       God bless him for being a great human being.  \n",
              "1             POS  I love the humanity of our astronaut, a man wi...  \n",
              "2             POS  Two great men making history. Thank you for al...  \n",
              "3             POS  Nayib and Frank, two great examples of humilit...  \n",
              "4             POS  Colombia lacks a precedent with this one, I am...  "
            ]
          },
          "execution_count": 9,
          "metadata": {},
          "output_type": "execute_result"
        }
      ],
      "source": [
        "df.head()"
      ]
    },
    {
      "cell_type": "code",
      "execution_count": 10,
      "metadata": {
        "colab": {
          "base_uri": "https://localhost:8080/"
        },
        "id": "DALTCbKsOvr1",
        "outputId": "db784b03-2185-41a6-9aac-a7494dfda601"
      },
      "outputs": [
        {
          "data": {
            "text/plain": [
              "Unnamed: 0                         0\n",
              "Post Type                          0\n",
              "Profile Name                       0\n",
              "Date                               0\n",
              "Time                               0\n",
              "Likes                              0\n",
              "Text                               0\n",
              "AP                                 0\n",
              "EC Revised                         4\n",
              "AP + JA Revised                    0\n",
              "English Text (Google Translate)    0\n",
              "dtype: int64"
            ]
          },
          "execution_count": 10,
          "metadata": {},
          "output_type": "execute_result"
        }
      ],
      "source": [
        "df.isnull().sum()"
      ]
    },
    {
      "cell_type": "code",
      "execution_count": 22,
      "metadata": {
        "colab": {
          "base_uri": "https://localhost:8080/",
          "height": 164
        },
        "id": "9Bj8EoQuGLJv",
        "outputId": "85eb5881-9b2d-4e1c-f662-2aee60634c36"
      },
      "outputs": [],
      "source": [
        "# Pick the agreed upon labels\n",
        "df['sentiment'] = df['AP + JA Revised']\n",
        "\n",
        "# Display the first few rows of the DataFrame\n",
        "df.head(2)\n",
        "\n",
        "# Create sentiment labels in an unsupervised manner with the BETO sentiment analysis classifier\n",
        "\n",
        "# Creating lists for a new dataframe that contains the assigned label and the associated probability score\n",
        "sentiment_output = []\n",
        "sentiment_proba = []\n",
        "\n",
        "# Looping through the scraped tweets and appending predictions to the previously created lists\n",
        "\n",
        "for tweet in df['Text']:\n",
        "  result = classifier(tweet)\n",
        "  sentiment_output.append(result[0]['label']) # select given label\n",
        "  sentiment_proba.append(result[0]['score']) # select probability of given label\n",
        "\n",
        "# Concat results with selected columns to get a new dataframe\n",
        "sentiment_beto_df = pd.concat([df,\n",
        "                               pd.Series(sentiment_output), pd.Series(sentiment_proba)],\n",
        "                              axis=1)\n",
        "\n",
        "# Rename new columns to 'sentiment' and 'sentiment_probability'\n",
        "sentiment_beto_df.rename(columns={0: 'sentiment_output', 1: 'sentiment_probability'}, inplace=True)"
      ]
    },
    {
      "cell_type": "code",
      "execution_count": 23,
      "metadata": {},
      "outputs": [
        {
          "data": {
            "text/html": [
              "<div>\n",
              "<style scoped>\n",
              "    .dataframe tbody tr th:only-of-type {\n",
              "        vertical-align: middle;\n",
              "    }\n",
              "\n",
              "    .dataframe tbody tr th {\n",
              "        vertical-align: top;\n",
              "    }\n",
              "\n",
              "    .dataframe thead th {\n",
              "        text-align: right;\n",
              "    }\n",
              "</style>\n",
              "<table border=\"1\" class=\"dataframe\">\n",
              "  <thead>\n",
              "    <tr style=\"text-align: right;\">\n",
              "      <th></th>\n",
              "      <th>Unnamed: 0</th>\n",
              "      <th>Post Type</th>\n",
              "      <th>Profile Name</th>\n",
              "      <th>Date</th>\n",
              "      <th>Time</th>\n",
              "      <th>Likes</th>\n",
              "      <th>Text</th>\n",
              "      <th>AP</th>\n",
              "      <th>EC Revised</th>\n",
              "      <th>AP + JA Revised</th>\n",
              "      <th>English Text (Google Translate)</th>\n",
              "      <th>sentiment_numeric</th>\n",
              "      <th>sentiment</th>\n",
              "      <th>sentiment_output</th>\n",
              "      <th>sentiment_probability</th>\n",
              "    </tr>\n",
              "  </thead>\n",
              "  <tbody>\n",
              "    <tr>\n",
              "      <th>0</th>\n",
              "      <td>0</td>\n",
              "      <td>Astronaut Post</td>\n",
              "      <td>Elizabeth Menjivar</td>\n",
              "      <td>2024-04-13</td>\n",
              "      <td>03:29:29</td>\n",
              "      <td>43</td>\n",
              "      <td>Dios lo bendiga por ser un gran ser humano</td>\n",
              "      <td>POS</td>\n",
              "      <td>POS</td>\n",
              "      <td>POS</td>\n",
              "      <td>God bless him for being a great human being.</td>\n",
              "      <td>0</td>\n",
              "      <td>POS</td>\n",
              "      <td>POS</td>\n",
              "      <td>0.997756</td>\n",
              "    </tr>\n",
              "    <tr>\n",
              "      <th>1</th>\n",
              "      <td>1</td>\n",
              "      <td>Astronaut Post</td>\n",
              "      <td>Mila Mijango</td>\n",
              "      <td>2024-04-17</td>\n",
              "      <td>17:29:01</td>\n",
              "      <td>6</td>\n",
              "      <td>Me encanta la humanidad de nuestro astronauta,...</td>\n",
              "      <td>POS</td>\n",
              "      <td>POS</td>\n",
              "      <td>POS</td>\n",
              "      <td>I love the humanity of our astronaut, a man wi...</td>\n",
              "      <td>0</td>\n",
              "      <td>POS</td>\n",
              "      <td>POS</td>\n",
              "      <td>0.998780</td>\n",
              "    </tr>\n",
              "    <tr>\n",
              "      <th>2</th>\n",
              "      <td>2</td>\n",
              "      <td>Astronaut Post</td>\n",
              "      <td>Any Rodríguez</td>\n",
              "      <td>2024-04-13</td>\n",
              "      <td>04:00:29</td>\n",
              "      <td>18</td>\n",
              "      <td>Dos grandes hombres haciendo historia. Gracias...</td>\n",
              "      <td>POS</td>\n",
              "      <td>POS</td>\n",
              "      <td>POS</td>\n",
              "      <td>Two great men making history. Thank you for al...</td>\n",
              "      <td>0</td>\n",
              "      <td>POS</td>\n",
              "      <td>POS</td>\n",
              "      <td>0.998589</td>\n",
              "    </tr>\n",
              "    <tr>\n",
              "      <th>3</th>\n",
              "      <td>3</td>\n",
              "      <td>Astronaut Post</td>\n",
              "      <td>Sara Cespedes</td>\n",
              "      <td>2024-04-13</td>\n",
              "      <td>08:22:47</td>\n",
              "      <td>136</td>\n",
              "      <td>Nayib y Frank dos grandes ejemplo de umildad y...</td>\n",
              "      <td>POS</td>\n",
              "      <td>POS</td>\n",
              "      <td>POS</td>\n",
              "      <td>Nayib and Frank, two great examples of humilit...</td>\n",
              "      <td>0</td>\n",
              "      <td>POS</td>\n",
              "      <td>POS</td>\n",
              "      <td>0.998770</td>\n",
              "    </tr>\n",
              "    <tr>\n",
              "      <th>4</th>\n",
              "      <td>4</td>\n",
              "      <td>Astronaut Post</td>\n",
              "      <td>Martha Morales</td>\n",
              "      <td>2024-04-13</td>\n",
              "      <td>03:13:56</td>\n",
              "      <td>70</td>\n",
              "      <td>A Colombia  le falta  un precidente  con este ...</td>\n",
              "      <td>NEU</td>\n",
              "      <td>POS</td>\n",
              "      <td>POS</td>\n",
              "      <td>Colombia lacks a precedent with this one, I am...</td>\n",
              "      <td>0</td>\n",
              "      <td>POS</td>\n",
              "      <td>POS</td>\n",
              "      <td>0.984938</td>\n",
              "    </tr>\n",
              "  </tbody>\n",
              "</table>\n",
              "</div>"
            ],
            "text/plain": [
              "   Unnamed: 0       Post Type        Profile Name        Date      Time  \\\n",
              "0           0  Astronaut Post  Elizabeth Menjivar  2024-04-13  03:29:29   \n",
              "1           1  Astronaut Post        Mila Mijango  2024-04-17  17:29:01   \n",
              "2           2  Astronaut Post       Any Rodríguez  2024-04-13  04:00:29   \n",
              "3           3  Astronaut Post       Sara Cespedes  2024-04-13  08:22:47   \n",
              "4           4  Astronaut Post      Martha Morales  2024-04-13  03:13:56   \n",
              "\n",
              "   Likes                                               Text   AP EC Revised  \\\n",
              "0     43         Dios lo bendiga por ser un gran ser humano  POS        POS   \n",
              "1      6  Me encanta la humanidad de nuestro astronauta,...  POS        POS   \n",
              "2     18  Dos grandes hombres haciendo historia. Gracias...  POS        POS   \n",
              "3    136  Nayib y Frank dos grandes ejemplo de umildad y...  POS        POS   \n",
              "4     70  A Colombia  le falta  un precidente  con este ...  NEU        POS   \n",
              "\n",
              "  AP + JA Revised                    English Text (Google Translate)  \\\n",
              "0             POS       God bless him for being a great human being.   \n",
              "1             POS  I love the humanity of our astronaut, a man wi...   \n",
              "2             POS  Two great men making history. Thank you for al...   \n",
              "3             POS  Nayib and Frank, two great examples of humilit...   \n",
              "4             POS  Colombia lacks a precedent with this one, I am...   \n",
              "\n",
              "   sentiment_numeric sentiment sentiment_output  sentiment_probability  \n",
              "0                  0       POS              POS               0.997756  \n",
              "1                  0       POS              POS               0.998780  \n",
              "2                  0       POS              POS               0.998589  \n",
              "3                  0       POS              POS               0.998770  \n",
              "4                  0       POS              POS               0.984938  "
            ]
          },
          "execution_count": 23,
          "metadata": {},
          "output_type": "execute_result"
        }
      ],
      "source": [
        "sentiment_beto_df.head()"
      ]
    },
    {
      "cell_type": "code",
      "execution_count": 24,
      "metadata": {},
      "outputs": [],
      "source": [
        "# Evaluate results\n",
        "y = sentiment_beto_df['sentiment']\n",
        "y_pred = sentiment_beto_df['sentiment_output']"
      ]
    },
    {
      "cell_type": "code",
      "execution_count": 25,
      "metadata": {},
      "outputs": [
        {
          "name": "stdout",
          "output_type": "stream",
          "text": [
            "0.8618618618618619 0.8762998299205096 0.9106828026182864 0.8618618618618619\n"
          ]
        }
      ],
      "source": [
        "accuracy = accuracy_score(y, y_pred)\n",
        "f1 = f1_score(y, y_pred, average='weighted')\n",
        "precision = precision_score(y, y_pred, average='weighted')\n",
        "recall = recall_score(y, y_pred, average='weighted')\n",
        "print(accuracy, f1, precision, recall)"
      ]
    },
    {
      "cell_type": "code",
      "execution_count": null,
      "metadata": {},
      "outputs": [],
      "source": [
        "from sklearn.metrics import accuracy_score, f1_score, precision_score, recall_score\n",
        "import mlflow"
      ]
    },
    {
      "cell_type": "code",
      "execution_count": 20,
      "metadata": {
        "colab": {
          "base_uri": "https://localhost:8080/",
          "height": 51
        },
        "id": "jlzGO7cqOZuo",
        "outputId": "942f7f90-dc67-498a-8afd-20855d950314"
      },
      "outputs": [
        {
          "data": {
            "text/html": [
              "<pre style=\"white-space:pre;overflow-x:auto;line-height:normal;font-family:Menlo,'DejaVu Sans Mono',consolas,'Courier New',monospace\">Initialized MLflow to track repo <span style=\"color: #008000; text-decoration-color: #008000\">\"Omdena/IREX-El-Salvador-Sentiment\"</span>\n",
              "</pre>\n"
            ],
            "text/plain": [
              "Initialized MLflow to track repo \u001b[32m\"Omdena/IREX-El-Salvador-Sentiment\"\u001b[0m\n"
            ]
          },
          "metadata": {},
          "output_type": "display_data"
        },
        {
          "data": {
            "text/html": [
              "<pre style=\"white-space:pre;overflow-x:auto;line-height:normal;font-family:Menlo,'DejaVu Sans Mono',consolas,'Courier New',monospace\">Repository Omdena/IREX-El-Salvador-Sentiment initialized!\n",
              "</pre>\n"
            ],
            "text/plain": [
              "Repository Omdena/IREX-El-Salvador-Sentiment initialized!\n"
            ]
          },
          "metadata": {},
          "output_type": "display_data"
        }
      ],
      "source": [
        "# Log results to MLFlow\n",
        "# Initialize DagsHub for MLflow tracking\n",
        "dagshub.init(\"IREX-El-Salvador-Sentiment\", \"Omdena\", mlflow=True)"
      ]
    },
    {
      "cell_type": "code",
      "execution_count": 21,
      "metadata": {
        "id": "TyK2qkl2OM0O"
      },
      "outputs": [],
      "source": [
        "clf_name = \"BETO Pretrained\"\n",
        "# Log the experiment with MLflow and DagsHub\n",
        "with mlflow.start_run(run_name=clf_name):\n",
        "    # Log parameters\n",
        "    # mlflow.log_params(clf.get_params())\n",
        "    mlflow.log_param(\"Classifier\", clf_name)\n",
        "\n",
        "    # Log metrics\n",
        "    # mlflow.log_metric(\"Training Accuracy\", train_accuracy)\n",
        "    mlflow.log_metric(\"accuracy\", accuracy)\n",
        "    mlflow.log_metric(\"f1_score\", f1)\n",
        "    mlflow.log_metric(\"precision_score\", precision)\n",
        "    mlflow.log_metric(\"recall_score\", recall)\n",
        "\n",
        "    # Log the model\n",
        "    # mlflow.sklearn.log_model(clf, f'{clf_name}_model')\n",
        "\n",
        "    # Add tags\n",
        "    mlflow.set_tag(\"estimator_name\", clf_name)\n",
        "    mlflow.set_tag(\"transformer\", \"BETO\")"
      ]
    }
  ],
  "metadata": {
    "colab": {
      "provenance": []
    },
    "kernelspec": {
      "display_name": "base",
      "language": "python",
      "name": "python3"
    },
    "language_info": {
      "codemirror_mode": {
        "name": "ipython",
        "version": 3
      },
      "file_extension": ".py",
      "mimetype": "text/x-python",
      "name": "python",
      "nbconvert_exporter": "python",
      "pygments_lexer": "ipython3",
      "version": "3.10.12"
    }
  },
  "nbformat": 4,
  "nbformat_minor": 0
}
